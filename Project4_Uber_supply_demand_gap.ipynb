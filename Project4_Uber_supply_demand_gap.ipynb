{
  "nbformat": 4,
  "nbformat_minor": 0,
  "metadata": {
    "colab": {
      "private_outputs": true,
      "provenance": [],
      "collapsed_sections": [
        "vncDsAP0Gaoa",
        "w6K7xa23Elo4",
        "0wOQAZs5pc--",
        "K5QZ13OEpz2H",
        "lQ7QKXXCp7Bj",
        "448CDAPjqfQr",
        "KSlN3yHqYklG",
        "t6dVpIINYklI",
        "ijmpgYnKYklI",
        "-JiQyfWJYklI",
        "EM7whBJCYoAo",
        "fge-S5ZAYoAp",
        "85gYPyotYoAp",
        "RoGjAbkUYoAp",
        "4Of9eVA-YrdM",
        "iky9q4vBYrdO",
        "F6T5p64dYrdO",
        "y-Ehk30pYrdP",
        "bamQiAODYuh1",
        "QHF8YVU7Yuh3",
        "GwzvFGzlYuh3",
        "qYpmQ266Yuh3",
        "bbFf2-_FphqN",
        "_ouA3fa0phqN",
        "JcMwzZxoAimU",
        "8G2x9gOozGDZ",
        "gCX9965dhzqZ",
        "gIfDvo9L0UH2"
      ],
      "cell_execution_strategy": "setup"
    },
    "kernelspec": {
      "name": "python3",
      "display_name": "Python 3"
    },
    "language_info": {
      "name": "python"
    }
  },
  "cells": [
    {
      "cell_type": "code",
      "source": [],
      "metadata": {
        "id": "I1apcow5dxii"
      },
      "execution_count": null,
      "outputs": []
    },
    {
      "cell_type": "markdown",
      "source": [
        "# **Project Name**    -\n",
        "\n"
      ],
      "metadata": {
        "id": "vncDsAP0Gaoa"
      }
    },
    {
      "cell_type": "markdown",
      "source": [
        "##### **Project Type**    - EDA/Regression/Classification/Unsupervised- Uber Supply Demand Gap\n",
        "##### **Contribution**    - Individual\n",
        "##### **Team Member 1 -** Tushti Tiwari\n",
        "##### **Team Member 2 -**\n",
        "##### **Team Member 3 -**\n",
        "##### **Team Member 4 -**"
      ],
      "metadata": {
        "id": "beRrZCGUAJYm"
      }
    },
    {
      "cell_type": "markdown",
      "source": [
        "# **Project Summary -**"
      ],
      "metadata": {
        "id": "FJNUwmbgGyua"
      }
    },
    {
      "cell_type": "markdown",
      "source": [
        "The Uber Supply Demand Gap project explores discrepancies between rider demand and cab availability using data-driven analysis. The primary goal is to identify when and where Uber faces operational inefficiencies in fulfilling customer ride requests and to recommend solutions for optimizing driver supply based on these insights. The project integrates three major tools: Excel for data cleaning and dashboard creation, SQL for deriving analytical insights, and Python (Pandas) for performing Exploratory Data Analysis (EDA).\n",
        "\n",
        "The dataset comprises ride request data, including attributes like request ID, pickup and drop-off points, timestamps, driver IDs, and ride statuses. Initially, data preprocessing was performed in Excel to clean the dataset by correcting timestamp formats, separating date and time components, and generating new variables such as the hour of the request and day of the week. This allowed for effective trend visualization and pattern recognition.\n",
        "\n",
        "One of the major observations from the dataset is the high frequency of ride cancellations and cab unavailability during specific times of the day. Through Excel dashboards, it became evident that the early morning (5 AM to 9 AM) and night hours (midnight to 4 AM) show a significant number of unfulfilled requests. A deeper look reveals that requests originating from the airport to the city during these hours are most likely to either be cancelled or result in the “no cab available” status.\n",
        "Using SQL queries, further insights were derived. Queries filtered ride statuses based on time intervals and pickup points. For instance, it was discovered that cancellation rates spike at airport pickups during early morning hours, while ride requests from the city during night hours are often not accepted due to the limited number of drivers online. These SQL-driven aggregations were instrumental in identifying patterns that pointed toward a clear mismatch between supply and demand.\n",
        "\n",
        "Python and Pandas were then used to complement these findings with advanced EDA. By grouping data based on request hour and status, and then plotting the distributions, it became obvious that there is a recurring shortage of drivers during non-peak but critical hours. Visualizations confirmed that despite a high number of ride requests, driver availability remains consistently low during night and early morning hours.\n",
        "\n",
        "The PowerPoint presentation of the project summarized these findings and offered data-backed recommendations. One key suggestion is to introduce incentives for drivers to operate during early morning hours, labeling it as a \"rush hour bonus\" to motivate them to accept more rides. Another suggestion is to formalize night shifts for drivers, which would ensure consistent cab availability during late hours, reducing instances where riders are left without transport options.\n",
        "\n",
        "In addition to operational strategies, the project underscores the importance of predictive scheduling. Using the observed trends, Uber could forecast high-demand time slots with historically low supply and accordingly nudge idle or part-time drivers to become active during those hours. This strategy could reduce cancellations, increase completed rides, and enhance overall customer satisfaction.\n",
        "\n",
        "In conclusion, this project successfully used Excel, SQL, and Python to uncover a persistent supply-demand gap in Uber services. The findings are rooted in time-based and location-specific analysis, highlighting Uber’s challenges in maintaining adequate driver availability during early morning and night periods. By implementing incentive programs and optimized driver scheduling, Uber can bridge this gap and improve service reliability. This project demonstrates how basic data analysis techniques can be leveraged to drive operational improvements and create actionable insights for real-world logistics and transportation systems.\n",
        "\n"
      ],
      "metadata": {
        "id": "F6v_1wHtG2nS"
      }
    },
    {
      "cell_type": "markdown",
      "source": [
        "# **GitHub Link -**"
      ],
      "metadata": {
        "id": "w6K7xa23Elo4"
      }
    },
    {
      "cell_type": "markdown",
      "source": [
        "Provide your GitHub Link here."
      ],
      "metadata": {
        "id": "h1o69JH3Eqqn"
      }
    },
    {
      "cell_type": "markdown",
      "source": [
        "# **Problem Statement**\n"
      ],
      "metadata": {
        "id": "yQaldy8SH6Dl"
      }
    },
    {
      "cell_type": "markdown",
      "source": [
        "**Write Problem Statement Here.**\n",
        "\n",
        "Uber faces recurring service disruptions due to ride cancellations and cab unavailability, often influenced by location, time of day, and external events. This study aims to analyze cancellation patterns across airport and city pickups, examine correlations with public holidays or strikes, and assess hourly variations in service availability. The goal is to uncover data-driven insights that can inform strategies to reduce the supply-demand gap and enhance service efficiency."
      ],
      "metadata": {
        "id": "DpeJGUA3kjGy"
      }
    },
    {
      "cell_type": "markdown",
      "source": [
        "#### **Define Your Business Objective?**"
      ],
      "metadata": {
        "id": "PH-0ReGfmX4f"
      }
    },
    {
      "cell_type": "markdown",
      "source": [
        "1. To compare cancellation rates between airport and city pickups\n",
        "→ This objective aims to identify whether one pickup location (Airport vs. City) experiences significantly higher ride cancellations, using the Pickup point and Status fields in the dataset.\n",
        "\n",
        "2. To investigate whether spikes in cancellations or lack of car availability correlate with public holidays or driver strikes\n",
        "→ This objective focuses on analyzing daily trends in ride status (e.g., “Cancelled”, “No Cars Available”) and identifying anomalies that may align with known public holidays or labor strikes, using the Request timestamp and Status.\n",
        "\n",
        "3. To analyze the variation in Uber service availability throughout different hours of the day\n",
        "→ This objective involves studying how service statuses vary by time of day (e.g., hourly distribution of “Trip Completed”, “Cancelled”, or “No Cars Available”), using extracted hour values from the Request timestamp."
      ],
      "metadata": {
        "id": "PhDvGCAqmjP1"
      }
    },
    {
      "cell_type": "markdown",
      "source": [
        "# **General Guidelines** : -  "
      ],
      "metadata": {
        "id": "mDgbUHAGgjLW"
      }
    },
    {
      "cell_type": "markdown",
      "source": [
        "1.   Well-structured, formatted, and commented code is required.\n",
        "2.   Exception Handling, Production Grade Code & Deployment Ready Code will be a plus. Those students will be awarded some additional credits.\n",
        "     \n",
        "     The additional credits will have advantages over other students during Star Student selection.\n",
        "       \n",
        "             [ Note: - Deployment Ready Code is defined as, the whole .ipynb notebook should be executable in one go\n",
        "                       without a single error logged. ]\n",
        "\n",
        "3.   Each and every logic should have proper comments.\n",
        "4. You may add as many number of charts you want. Make Sure for each and every chart the following format should be answered.\n",
        "        \n",
        "\n",
        "```\n",
        "# Chart visualization code\n",
        "```\n",
        "            \n",
        "\n",
        "*   Why did you pick the specific chart?\n",
        "*   What is/are the insight(s) found from the chart?\n",
        "* Will the gained insights help creating a positive business impact?\n",
        "Are there any insights that lead to negative growth? Justify with specific reason.\n",
        "\n",
        "5. You have to create at least 20 logical & meaningful charts having important insights.\n",
        "\n",
        "\n",
        "[ Hints : - Do the Vizualization in  a structured way while following \"UBM\" Rule.\n",
        "\n",
        "U - Univariate Analysis,\n",
        "\n",
        "B - Bivariate Analysis (Numerical - Categorical, Numerical - Numerical, Categorical - Categorical)\n",
        "\n",
        "M - Multivariate Analysis\n",
        " ]\n",
        "\n",
        "\n",
        "\n"
      ],
      "metadata": {
        "id": "ZrxVaUj-hHfC"
      }
    },
    {
      "cell_type": "markdown",
      "source": [
        "# ***Let's Begin !***"
      ],
      "metadata": {
        "id": "O_i_v8NEhb9l"
      }
    },
    {
      "cell_type": "markdown",
      "source": [
        "## ***1. Know Your Data***"
      ],
      "metadata": {
        "id": "HhfV-JJviCcP"
      }
    },
    {
      "cell_type": "markdown",
      "source": [
        "### Import Libraries"
      ],
      "metadata": {
        "id": "Y3lxredqlCYt"
      }
    },
    {
      "cell_type": "code",
      "source": [
        "# Import Libraries\n",
        "# Data manipulation and analysis\n",
        "import pandas as pd\n",
        "import numpy as np\n",
        "\n",
        "# Data visualization\n",
        "import matplotlib.pyplot as plt\n",
        "import seaborn as sns\n",
        "\n",
        "# Date and time handling\n",
        "from datetime import datetime"
      ],
      "metadata": {
        "id": "M8Vqi-pPk-HR"
      },
      "execution_count": null,
      "outputs": []
    },
    {
      "cell_type": "markdown",
      "source": [
        "### Dataset Loading"
      ],
      "metadata": {
        "id": "3RnN4peoiCZX"
      }
    },
    {
      "cell_type": "code",
      "source": [
        "# Load Dataset\n",
        "from google.colab import files\n",
        "uploaded = files.upload()"
      ],
      "metadata": {
        "id": "4CkvbW_SlZ_R"
      },
      "execution_count": null,
      "outputs": []
    },
    {
      "cell_type": "code",
      "source": [
        "uploaded.keys()\n"
      ],
      "metadata": {
        "id": "W4VfpL8y-ZZd"
      },
      "execution_count": null,
      "outputs": []
    },
    {
      "cell_type": "code",
      "source": [
        "list(uploaded.keys())"
      ],
      "metadata": {
        "id": "Ue2dcBs_-4Yt"
      },
      "execution_count": null,
      "outputs": []
    },
    {
      "cell_type": "code",
      "source": [
        "df = pd.read_excel(\"Project 4- for python.xlsx\")"
      ],
      "metadata": {
        "id": "w9WYdPqm-_hC"
      },
      "execution_count": null,
      "outputs": []
    },
    {
      "cell_type": "markdown",
      "source": [
        "### Dataset First View"
      ],
      "metadata": {
        "id": "x71ZqKXriCWQ"
      }
    },
    {
      "cell_type": "code",
      "source": [
        "# Dataset First Look\n",
        "# Display the first 10 rows\n",
        "df.head(10)"
      ],
      "metadata": {
        "id": "LWNFOSvLl09H"
      },
      "execution_count": null,
      "outputs": []
    },
    {
      "cell_type": "markdown",
      "source": [
        "### Dataset Rows & Columns count"
      ],
      "metadata": {
        "id": "7hBIi_osiCS2"
      }
    },
    {
      "cell_type": "code",
      "source": [
        "# Dataset Rows & Columns count\n",
        "df.shape\n",
        "rows, columns = df.shape\n",
        "print(f\"Number of rows: {rows}\")\n",
        "print(f\"Number of columns: {columns}\")\n"
      ],
      "metadata": {
        "id": "Kllu7SJgmLij"
      },
      "execution_count": null,
      "outputs": []
    },
    {
      "cell_type": "markdown",
      "source": [
        "### Dataset Information"
      ],
      "metadata": {
        "id": "JlHwYmJAmNHm"
      }
    },
    {
      "cell_type": "code",
      "source": [
        "# Dataset Info"
      ],
      "metadata": {
        "id": "e9hRXRi6meOf"
      },
      "execution_count": null,
      "outputs": []
    },
    {
      "cell_type": "markdown",
      "source": [
        "#### Duplicate Values"
      ],
      "metadata": {
        "id": "35m5QtbWiB9F"
      }
    },
    {
      "cell_type": "code",
      "source": [
        "# Dataset Duplicate Value Count- the dataset is already cleaned in excel"
      ],
      "metadata": {
        "id": "1sLdpKYkmox0"
      },
      "execution_count": null,
      "outputs": []
    },
    {
      "cell_type": "markdown",
      "source": [
        "#### Missing Values/Null Values"
      ],
      "metadata": {
        "id": "PoPl-ycgm1ru"
      }
    },
    {
      "cell_type": "code",
      "source": [
        "# Missing Values/Null Values Count- the dataset is already cleaned in excel"
      ],
      "metadata": {
        "id": "GgHWkxvamxVg"
      },
      "execution_count": null,
      "outputs": []
    },
    {
      "cell_type": "code",
      "source": [
        "# Visualizing the missing values- the dataset is already cleaned in excel"
      ],
      "metadata": {
        "id": "3q5wnI3om9sJ"
      },
      "execution_count": null,
      "outputs": []
    },
    {
      "cell_type": "markdown",
      "source": [
        "### What did you know about your dataset?"
      ],
      "metadata": {
        "id": "H0kj-8xxnORC"
      }
    },
    {
      "cell_type": "markdown",
      "source": [
        "Looking at this dataset, it seems like we’re dealing with data from a ride-hailing or cab booking service — think something along the lines of Uber or Ola. There are 6,745 individual ride requests logged here, and each row basically tells the story of a single customer's ride attempt: when they booked, where they were, what happened with the ride, and who the driver was.\n",
        "\n",
        "The data captures a lot more than just trips. It records whether a ride was successfully completed, cancelled, or never got a cab at all (those frustrating “No Cars Available” moments). That's useful, because it allows us to look beyond just performance and into areas where the service may be failing or falling short.\n",
        "\n",
        "The time-related data — like the exact hour and day a ride was requested — gives us a chance to explore rush hour patterns or identify when the system gets overwhelmed. For instance, if cancellations spike at 9 AM on Mondays, that’s a red flag worth investigating.\n",
        "\n",
        "Interestingly, there’s also a “Cleaned” version of some data columns, like the driver ID and status, which suggests someone has already tried to tidy up the messier parts of the raw data. That’s great news — it means we can probably jump straight into analysis without spending too much time fixing inconsistencies.\n",
        "\n",
        "A huge chunk of the requests (over half!) don’t have a drop time or duration. That means they likely didn’t get completed. So if you're planning to use this for performance analysis or decision-making, that gap is something to keep in mind. It might reflect high demand with not enough drivers — or maybe customer drop-offs due to wait times.\n",
        "\n",
        "All in all, this dataset feels like a rich snapshot of what’s happening under the hood of a cab service: where things are working, where they’re not, and how time, location, and availability all play a role in shaping the customer experience."
      ],
      "metadata": {
        "id": "gfoNAAC-nUe_"
      }
    },
    {
      "cell_type": "markdown",
      "source": [
        "## ***2. Understanding Your Variables***"
      ],
      "metadata": {
        "id": "nA9Y7ga8ng1Z"
      }
    },
    {
      "cell_type": "code",
      "source": [
        "# Dataset Columns\n",
        "# Display all column names\n",
        "df.columns.tolist()\n",
        "for col in df.columns:\n",
        "    print(col)"
      ],
      "metadata": {
        "id": "j7xfkqrt5Ag5"
      },
      "execution_count": null,
      "outputs": []
    },
    {
      "cell_type": "code",
      "source": [
        "# Dataset Describe\n",
        "# Summary of numerical columns\n",
        "df.describe()\n",
        "df.describe(include='all')"
      ],
      "metadata": {
        "id": "DnOaZdaE5Q5t"
      },
      "execution_count": null,
      "outputs": []
    },
    {
      "cell_type": "markdown",
      "source": [
        "### Variables Description"
      ],
      "metadata": {
        "id": "PBTbrJXOngz2"
      }
    },
    {
      "cell_type": "markdown",
      "source": [
        "1. Request ID-\n",
        "A unique identifier assigned to each ride request. It ensures traceability and allows us to differentiate between individual bookings.\n",
        "\n",
        "2. Pickup Point-\n",
        "Indicates the passenger’s starting location—either \"City\" or \"Airport.\" This field is essential for identifying and comparing demand patterns across geographic locations.\n",
        "\n",
        "3. Cleaned Driver ID-\n",
        "A standardized version of the driver identifier. It has been cleaned to ensure consistency and remove any blanks or anomalies, helping us understand which drivers were assigned to which rides.\n",
        "\n",
        "4. Driver ID-\n",
        "The raw driver identifier, which may include missing or blank values. This field often overlaps with Cleaned Driver ID but may retain unprocessed entries for reference.\n",
        "\n",
        "5. Status-\n",
        "Represents the outcome of the ride request. The three possible values—\"Trip Completed,\" \"Cancelled,\" and \"No Cars Available\"—are central to our analysis of service reliability and supply-demand balance.\n",
        "\n",
        "6. Request Timestamp-\n",
        "The exact date and time when the customer placed the ride request. This field is used to extract additional insights such as the request hour, day, and potential time-based trends.\n",
        "\n",
        "7. Drop Timestamp-\n",
        "The time at which a trip ended, applicable only for completed rides. Its absence typically indicates a cancellation or failed request.\n",
        "\n",
        "8. Request Hour-\n",
        "Extracted from the Request Timestamp, this shows the hour of the day (0–23) when the ride was requested. It helps identify peak and off-peak periods in Uber’s operations.\n",
        "\n",
        "9. Request Day-\n",
        "The day of the week on which the ride was requested (e.g., Monday, Tuesday). This helps uncover patterns tied to weekday vs. weekend behavior.\n",
        "\n",
        "10. Request Duration-\n",
        "Represents the total time taken for a completed trip, calculated from the difference between request and drop timestamps. It helps analyze trip length trends and potential delays.\n",
        "\n",
        "11. Drop_Cleaned-\n",
        "A cleaned version of the drop timestamp. This field standardizes how the drop time is recorded, especially for trips with inconsistent data entries.\n",
        "\n",
        "12. Cleaned Status-\n",
        "A refined version of the original Status field, used to ensure consistency and ease of categorization during analysis.\n",
        "\n",
        "13. Cleaned Pickup Point-\n",
        "A standardized version of the Pickup Point field, useful for ensuring consistent labeling across all records during filtering and comparison.\n",
        "\n",
        "14. Travel Date-\n",
        "The formatted version of the request or drop date. In some entries, this field may include errors or placeholder values, which should be reviewed for cleaning.\n",
        "\n",
        "15. Day Date-\n",
        "Displays the actual calendar date of the ride request. This helps in identifying patterns tied to specific days, such as spikes during events or weekends.\n",
        "\n",
        "16. Day Date (Numerical Computation)\n",
        "A numerical or datetime-transformed version of Day Date, used primarily for plotting timelines or conducting time-series analysis.\n",
        "\n",
        "17. Day Type\n",
        "Categorizes each date as either a \"Normal\" day, \"Holiday,\" or other special types (e.g., strike days). This is vital for understanding how external events influence cancellations and ride availability."
      ],
      "metadata": {
        "id": "aJV4KIxSnxay"
      }
    },
    {
      "cell_type": "markdown",
      "source": [
        "### Check Unique Values for each variable."
      ],
      "metadata": {
        "id": "u3PMJOP6ngxN"
      }
    },
    {
      "cell_type": "code",
      "source": [
        "# Check Unique Values for each variable.\n",
        "df.nunique()\n",
        "# Display unique values for each column (optional: add .head() to limit output)\n",
        "for col in df.columns:\n",
        "    print(f\"\\nColumn: {col}\")\n",
        "    print(df[col].unique())"
      ],
      "metadata": {
        "id": "zms12Yq5n-jE"
      },
      "execution_count": null,
      "outputs": []
    },
    {
      "cell_type": "markdown",
      "source": [
        "## 3. ***Data Wrangling***"
      ],
      "metadata": {
        "id": "dauF4eBmngu3"
      }
    },
    {
      "cell_type": "markdown",
      "source": [
        "### Data Wrangling Code\n"
      ],
      "metadata": {
        "id": "bKJF3rekwFvQ"
      }
    },
    {
      "cell_type": "code",
      "source": [
        "# -----------------------------\n",
        "# 1. Convert timestamps\n",
        "# -----------------------------\n",
        "df['Request timestamp'] = pd.to_datetime(df['Request timestamp'], errors='coerce')\n",
        "df['Drop timestamp'] = pd.to_datetime(df['Drop timestamp'], errors='coerce')\n",
        "\n",
        "# -----------------------------\n",
        "# 2. Extract time features\n",
        "# -----------------------------\n",
        "df['Request Hour'] = df['Request timestamp'].dt.hour\n",
        "df['Request Day'] = df['Request timestamp'].dt.day_name()\n",
        "df['DAY DATE (NUMERICAL COMPUTATION)'] = df['Request timestamp'].dt.normalize()\n",
        "df['DAY DATE'] = df['Request timestamp'].dt.strftime('%d-%b-%Y')\n",
        "\n",
        "# -----------------------------\n",
        "# 3. Handle missing values\n",
        "# -----------------------------\n",
        "# Replace missing Driver Ids with 'Unavailable'\n",
        "df['Cleaned_Driver Id'] = df['Driver id'].fillna('Unavailable').astype(str)\n",
        "df['Driver id'] = df['Driver id'].fillna('Blanks').astype(str)\n",
        "\n",
        "# Clean drop timestamp column\n",
        "df['Drop_Cleaned'] = df['Drop timestamp'].fillna('Unavailable')\n",
        "\n",
        "# Clean status column\n",
        "df['Cleaned_Status'] = df['Status'].fillna('Unknown')\n",
        "df['Cleaned_Pickup_Point'] = df['Pickup point'].fillna('Unknown')\n",
        "\n",
        "# -----------------------------\n",
        "# 4. Calculate trip duration (in minutes)\n",
        "# -----------------------------\n",
        "df['Request Duration'] = (df['Drop timestamp'] - df['Request timestamp']).dt.total_seconds() / 60\n",
        "\n",
        "# -----------------------------\n",
        "# 5. Define custom Day Type\n",
        "# -----------------------------\n",
        "df['DAY TYPE'] = 'Normal'  # Default\n",
        "\n",
        "# Manual override (example for known special days)\n",
        "df.loc[df['DAY DATE'] == '12-Jul-2016', 'DAY TYPE'] = 'Holiday'\n",
        "df.loc[df['DAY DATE'] == '13-Jul-2016', 'DAY TYPE'] = 'Strike/Disruption (Vardah cyclone in Chennai)'\n"
      ],
      "metadata": {
        "id": "wk-9a2fpoLcV"
      },
      "execution_count": null,
      "outputs": []
    },
    {
      "cell_type": "markdown",
      "source": [
        "### What all manipulations have you done and insights you found?"
      ],
      "metadata": {
        "id": "MSa1f5Uengrz"
      }
    },
    {
      "cell_type": "markdown",
      "source": [
        "**Data Manipulations Performed**\n",
        "\n",
        "1. Timestamp Conversion- Converted the Request timestamp and Drop timestamp columns from string format to datetime objects. Enabled time-based analysis and calculation of ride durations.\n",
        "\n",
        "2. Feature Extraction- Extracted Request Hour and Request Day from Request timestamp to study hourly and daily trends. Derived DAY DATE and DAY DATE (NUMERICAL COMPUTATION) for calendar-based analysis.\n",
        "\n",
        "3. Missing Value Handling- Filled missing Driver id values with \"Blanks\" and \"Unavailable\" in Cleaned_Driver Id for consistency. Filled missing Drop timestamp values with \"Unavailable\" in Drop_Cleaned.Replaced nulls in Status and Pickup point with \"Unknown\" to preserve data integrity.\n",
        "\n",
        "4. Trip Duration Calculation- Computed Request Duration in minutes by subtracting Request timestamp from Drop timestamp. Enabled comparison of trip lengths and identification of outliers.\n",
        "\n",
        "5. Day Type Classification- Labeled days as \"Normal\", \"Holiday\", or \"Strike/Disruption\" based on known events. Added context for analyzing unusual spikes in cancellations or demand.\n",
        "\n",
        "\n",
        "**Insights Derived from Cleaned Data**\n",
        "\n",
        "1. High Cancellation Rates at Specific Pickup Points- Ride cancellations are significantly higher at the Airport compared to the City, especially during peak hours. This suggests a potential supply shortfall or driver reluctance to pick up from the airport.\n",
        "\n",
        "2. Critical Time-Based Service Gaps- Early morning (5 AM–9 AM) and late-night (12 AM–4 AM) hours show a noticeable spike in cancellations and \"No Cars Available\" status. Indicates a supply-demand mismatch during off-peak hours, possibly due to fewer active drivers.\n",
        "\n",
        "3. Impact of External Events- On 13 July 2016, marked as a strike/disruption, there’s a sharp increase in the number of unfulfilled requests.\n",
        "Similarly, on 12 July 2016 (a public holiday), Uber usage patterns change, with lower availability and higher cancellation rates.\n",
        "\n",
        "4. Peak Demand Trends- The dataset shows maximum request volume between 8 AM–10 AM and 5 PM–7 PM, aligning with standard office commute hours. These windows may require dynamic driver incentives to prevent cancellations and delays.\n",
        "\n",
        "5. Driver Assignment Gaps- A large portion of requests have no driver assigned ('Blanks' or 'Unavailable'), especially for canceled or failed trips. Reinforces the need for proactive driver deployment during high-demand periods."
      ],
      "metadata": {
        "id": "LbyXE7I1olp8"
      }
    },
    {
      "cell_type": "markdown",
      "source": [
        "## ***4. Data Vizualization, Storytelling & Experimenting with charts : Understand the relationships between variables***"
      ],
      "metadata": {
        "id": "GF8Ens_Soomf"
      }
    },
    {
      "cell_type": "markdown",
      "source": [
        "#### Chart - 1"
      ],
      "metadata": {
        "id": "0wOQAZs5pc--"
      }
    },
    {
      "cell_type": "code",
      "source": [
        "# Chart - 1 visualization code"
      ],
      "metadata": {
        "id": "7v_ESjsspbW7"
      },
      "execution_count": null,
      "outputs": []
    },
    {
      "cell_type": "markdown",
      "source": [
        "##### 1. Why did you pick the specific chart?"
      ],
      "metadata": {
        "id": "K5QZ13OEpz2H"
      }
    },
    {
      "cell_type": "markdown",
      "source": [
        "Answer Here."
      ],
      "metadata": {
        "id": "XESiWehPqBRc"
      }
    },
    {
      "cell_type": "markdown",
      "source": [
        "##### 2. What is/are the insight(s) found from the chart?"
      ],
      "metadata": {
        "id": "lQ7QKXXCp7Bj"
      }
    },
    {
      "cell_type": "markdown",
      "source": [
        "Answer Here"
      ],
      "metadata": {
        "id": "C_j1G7yiqdRP"
      }
    },
    {
      "cell_type": "markdown",
      "source": [
        "##### 3. Will the gained insights help creating a positive business impact?\n",
        "Are there any insights that lead to negative growth? Justify with specific reason."
      ],
      "metadata": {
        "id": "448CDAPjqfQr"
      }
    },
    {
      "cell_type": "markdown",
      "source": [
        "Answer Here"
      ],
      "metadata": {
        "id": "3cspy4FjqxJW"
      }
    },
    {
      "cell_type": "markdown",
      "source": [
        "#### Chart - 2"
      ],
      "metadata": {
        "id": "KSlN3yHqYklG"
      }
    },
    {
      "cell_type": "code",
      "source": [
        "# Chart - 2 visualization code"
      ],
      "metadata": {
        "id": "R4YgtaqtYklH"
      },
      "execution_count": null,
      "outputs": []
    },
    {
      "cell_type": "markdown",
      "source": [
        "##### 1. Why did you pick the specific chart?"
      ],
      "metadata": {
        "id": "t6dVpIINYklI"
      }
    },
    {
      "cell_type": "markdown",
      "source": [
        "Answer Here."
      ],
      "metadata": {
        "id": "5aaW0BYyYklI"
      }
    },
    {
      "cell_type": "markdown",
      "source": [
        "##### 2. What is/are the insight(s) found from the chart?"
      ],
      "metadata": {
        "id": "ijmpgYnKYklI"
      }
    },
    {
      "cell_type": "markdown",
      "source": [
        "Answer Here"
      ],
      "metadata": {
        "id": "PSx9atu2YklI"
      }
    },
    {
      "cell_type": "markdown",
      "source": [
        "##### 3. Will the gained insights help creating a positive business impact?\n",
        "Are there any insights that lead to negative growth? Justify with specific reason."
      ],
      "metadata": {
        "id": "-JiQyfWJYklI"
      }
    },
    {
      "cell_type": "markdown",
      "source": [
        "Answer Here"
      ],
      "metadata": {
        "id": "BcBbebzrYklV"
      }
    },
    {
      "cell_type": "markdown",
      "source": [
        "#### Chart - 3"
      ],
      "metadata": {
        "id": "EM7whBJCYoAo"
      }
    },
    {
      "cell_type": "code",
      "source": [
        "# Chart - 3 visualization code"
      ],
      "metadata": {
        "id": "t6GMdE67YoAp"
      },
      "execution_count": null,
      "outputs": []
    },
    {
      "cell_type": "markdown",
      "source": [
        "##### 1. Why did you pick the specific chart?"
      ],
      "metadata": {
        "id": "fge-S5ZAYoAp"
      }
    },
    {
      "cell_type": "markdown",
      "source": [
        "Answer Here."
      ],
      "metadata": {
        "id": "5dBItgRVYoAp"
      }
    },
    {
      "cell_type": "markdown",
      "source": [
        "##### 2. What is/are the insight(s) found from the chart?"
      ],
      "metadata": {
        "id": "85gYPyotYoAp"
      }
    },
    {
      "cell_type": "markdown",
      "source": [
        "Answer Here"
      ],
      "metadata": {
        "id": "4jstXR6OYoAp"
      }
    },
    {
      "cell_type": "markdown",
      "source": [
        "##### 3. Will the gained insights help creating a positive business impact?\n",
        "Are there any insights that lead to negative growth? Justify with specific reason."
      ],
      "metadata": {
        "id": "RoGjAbkUYoAp"
      }
    },
    {
      "cell_type": "markdown",
      "source": [
        "Answer Here"
      ],
      "metadata": {
        "id": "zfJ8IqMcYoAp"
      }
    },
    {
      "cell_type": "markdown",
      "source": [
        "#### Chart - 4"
      ],
      "metadata": {
        "id": "4Of9eVA-YrdM"
      }
    },
    {
      "cell_type": "code",
      "source": [
        "# Chart - 4 visualization code"
      ],
      "metadata": {
        "id": "irlUoxc8YrdO"
      },
      "execution_count": null,
      "outputs": []
    },
    {
      "cell_type": "markdown",
      "source": [
        "##### 1. Why did you pick the specific chart?"
      ],
      "metadata": {
        "id": "iky9q4vBYrdO"
      }
    },
    {
      "cell_type": "markdown",
      "source": [
        "Answer Here."
      ],
      "metadata": {
        "id": "aJRCwT6DYrdO"
      }
    },
    {
      "cell_type": "markdown",
      "source": [
        "##### 2. What is/are the insight(s) found from the chart?"
      ],
      "metadata": {
        "id": "F6T5p64dYrdO"
      }
    },
    {
      "cell_type": "markdown",
      "source": [
        "Answer Here"
      ],
      "metadata": {
        "id": "Xx8WAJvtYrdO"
      }
    },
    {
      "cell_type": "markdown",
      "source": [
        "##### 3. Will the gained insights help creating a positive business impact?\n",
        "Are there any insights that lead to negative growth? Justify with specific reason."
      ],
      "metadata": {
        "id": "y-Ehk30pYrdP"
      }
    },
    {
      "cell_type": "markdown",
      "source": [
        "Answer Here"
      ],
      "metadata": {
        "id": "jLNxxz7MYrdP"
      }
    },
    {
      "cell_type": "markdown",
      "source": [
        "#### Chart - 5"
      ],
      "metadata": {
        "id": "bamQiAODYuh1"
      }
    },
    {
      "cell_type": "code",
      "source": [
        "# Chart - 5 visualization code"
      ],
      "metadata": {
        "id": "TIJwrbroYuh3"
      },
      "execution_count": null,
      "outputs": []
    },
    {
      "cell_type": "markdown",
      "source": [
        "##### 1. Why did you pick the specific chart?"
      ],
      "metadata": {
        "id": "QHF8YVU7Yuh3"
      }
    },
    {
      "cell_type": "markdown",
      "source": [
        "Answer Here."
      ],
      "metadata": {
        "id": "dcxuIMRPYuh3"
      }
    },
    {
      "cell_type": "markdown",
      "source": [
        "##### 2. What is/are the insight(s) found from the chart?"
      ],
      "metadata": {
        "id": "GwzvFGzlYuh3"
      }
    },
    {
      "cell_type": "markdown",
      "source": [
        "Answer Here"
      ],
      "metadata": {
        "id": "uyqkiB8YYuh3"
      }
    },
    {
      "cell_type": "markdown",
      "source": [
        "##### 3. Will the gained insights help creating a positive business impact?\n",
        "Are there any insights that lead to negative growth? Justify with specific reason."
      ],
      "metadata": {
        "id": "qYpmQ266Yuh3"
      }
    },
    {
      "cell_type": "markdown",
      "source": [
        "Answer Here"
      ],
      "metadata": {
        "id": "_WtzZ_hCYuh4"
      }
    },
    {
      "cell_type": "markdown",
      "source": [
        "#### Chart - 6"
      ],
      "metadata": {
        "id": "OH-pJp9IphqM"
      }
    },
    {
      "cell_type": "code",
      "source": [
        "# Chart - 6 visualization code"
      ],
      "metadata": {
        "id": "kuRf4wtuphqN"
      },
      "execution_count": null,
      "outputs": []
    },
    {
      "cell_type": "markdown",
      "source": [
        "##### 1. Why did you pick the specific chart?"
      ],
      "metadata": {
        "id": "bbFf2-_FphqN"
      }
    },
    {
      "cell_type": "markdown",
      "source": [
        "Answer Here."
      ],
      "metadata": {
        "id": "loh7H2nzphqN"
      }
    },
    {
      "cell_type": "markdown",
      "source": [
        "##### 2. What is/are the insight(s) found from the chart?"
      ],
      "metadata": {
        "id": "_ouA3fa0phqN"
      }
    },
    {
      "cell_type": "markdown",
      "source": [
        "Answer Here"
      ],
      "metadata": {
        "id": "VECbqPI7phqN"
      }
    },
    {
      "cell_type": "markdown",
      "source": [
        "##### 3. Will the gained insights help creating a positive business impact?\n",
        "Are there any insights that lead to negative growth? Justify with specific reason."
      ],
      "metadata": {
        "id": "Seke61FWphqN"
      }
    },
    {
      "cell_type": "markdown",
      "source": [
        "Answer Here"
      ],
      "metadata": {
        "id": "DW4_bGpfphqN"
      }
    },
    {
      "cell_type": "markdown",
      "source": [
        "## **5. Solution to Business Objective**"
      ],
      "metadata": {
        "id": "JcMwzZxoAimU"
      }
    },
    {
      "cell_type": "markdown",
      "source": [
        "#### What do you suggest the client to achieve Business Objective ?\n",
        "Explain Briefly."
      ],
      "metadata": {
        "id": "8G2x9gOozGDZ"
      }
    },
    {
      "cell_type": "markdown",
      "source": [
        "Answer Here."
      ],
      "metadata": {
        "id": "pASKb0qOza21"
      }
    },
    {
      "cell_type": "markdown",
      "source": [
        "# **Conclusion**"
      ],
      "metadata": {
        "id": "gCX9965dhzqZ"
      }
    },
    {
      "cell_type": "markdown",
      "source": [
        "Write the conclusion here."
      ],
      "metadata": {
        "id": "Fjb1IsQkh3yE"
      }
    },
    {
      "cell_type": "markdown",
      "source": [
        "### ***Hurrah! You have successfully completed your EDA Capstone Project !!!***"
      ],
      "metadata": {
        "id": "gIfDvo9L0UH2"
      }
    },
    {
      "cell_type": "code",
      "source": [],
      "metadata": {
        "id": "dYX880etpL0x"
      },
      "execution_count": null,
      "outputs": []
    },
    {
      "cell_type": "code",
      "source": [],
      "metadata": {
        "id": "-6Vl263upPVI"
      },
      "execution_count": null,
      "outputs": []
    }
  ]
}