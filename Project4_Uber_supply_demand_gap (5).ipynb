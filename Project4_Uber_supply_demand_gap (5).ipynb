{
  "nbformat": 4,
  "nbformat_minor": 0,
  "metadata": {
    "colab": {
      "provenance": [],
      "collapsed_sections": [
        "vncDsAP0Gaoa",
        "w6K7xa23Elo4"
      ],
      "cell_execution_strategy": "setup"
    },
    "kernelspec": {
      "name": "python3",
      "display_name": "Python 3"
    },
    "language_info": {
      "name": "python"
    }
  },
  "cells": [
    {
      "cell_type": "code",
      "source": [],
      "metadata": {
        "id": "I1apcow5dxii"
      },
      "execution_count": 67,
      "outputs": []
    },
    {
      "cell_type": "markdown",
      "source": [
        "# **Project Name**    -\n",
        "\n"
      ],
      "metadata": {
        "id": "vncDsAP0Gaoa"
      }
    },
    {
      "cell_type": "markdown",
      "source": [
        "##### **Project Type**    - EDA/Regression/Classification/Unsupervised- Uber Supply Demand Gap\n",
        "##### **Contribution**    - Individual\n",
        "##### **Team Member 1 -** Tushti Tiwari\n",
        "##### **Team Member 2 -**\n",
        "##### **Team Member 3 -**\n",
        "##### **Team Member 4 -**"
      ],
      "metadata": {
        "id": "beRrZCGUAJYm"
      }
    },
    {
      "cell_type": "markdown",
      "source": [
        "# **Project Summary -**"
      ],
      "metadata": {
        "id": "FJNUwmbgGyua"
      }
    },
    {
      "cell_type": "markdown",
      "source": [
        "The Uber Supply Demand Gap project explores discrepancies between rider demand and cab availability using data-driven analysis. The primary goal is to identify when and where Uber faces operational inefficiencies in fulfilling customer ride requests and to recommend solutions for optimizing driver supply based on these insights. The project integrates three major tools: Excel for data cleaning and dashboard creation, SQL for deriving analytical insights, and Python (Pandas) for performing Exploratory Data Analysis (EDA).\n",
        "\n",
        "The dataset comprises ride request data, including attributes like request ID, pickup and drop-off points, timestamps, driver IDs, and ride statuses. Initially, data preprocessing was performed in Excel to clean the dataset by correcting timestamp formats, separating date and time components, and generating new variables such as the hour of the request and day of the week. This allowed for effective trend visualization and pattern recognition.\n",
        "\n",
        "One of the major observations from the dataset is the high frequency of ride cancellations and cab unavailability during specific times of the day. Through Excel dashboards, it became evident that the early morning (5 AM to 9 AM) and night hours (midnight to 4 AM) show a significant number of unfulfilled requests. A deeper look reveals that requests originating from the airport to the city during these hours are most likely to either be cancelled or result in the “no cab available” status.\n",
        "Using SQL queries, further insights were derived. Queries filtered ride statuses based on time intervals and pickup points. For instance, it was discovered that cancellation rates spike at airport pickups during early morning hours, while ride requests from the city during night hours are often not accepted due to the limited number of drivers online. These SQL-driven aggregations were instrumental in identifying patterns that pointed toward a clear mismatch between supply and demand.\n",
        "\n",
        "Python and Pandas were then used to complement these findings with advanced EDA. By grouping data based on request hour and status, and then plotting the distributions, it became obvious that there is a recurring shortage of drivers during non-peak but critical hours. Visualizations confirmed that despite a high number of ride requests, driver availability remains consistently low during night and early morning hours.\n",
        "\n",
        "The PowerPoint presentation of the project summarized these findings and offered data-backed recommendations. One key suggestion is to introduce incentives for drivers to operate during early morning hours, labeling it as a \"rush hour bonus\" to motivate them to accept more rides. Another suggestion is to formalize night shifts for drivers, which would ensure consistent cab availability during late hours, reducing instances where riders are left without transport options.\n",
        "\n",
        "In addition to operational strategies, the project underscores the importance of predictive scheduling. Using the observed trends, Uber could forecast high-demand time slots with historically low supply and accordingly nudge idle or part-time drivers to become active during those hours. This strategy could reduce cancellations, increase completed rides, and enhance overall customer satisfaction.\n",
        "\n",
        "In conclusion, this project successfully used Excel, SQL, and Python to uncover a persistent supply-demand gap in Uber services. The findings are rooted in time-based and location-specific analysis, highlighting Uber’s challenges in maintaining adequate driver availability during early morning and night periods. By implementing incentive programs and optimized driver scheduling, Uber can bridge this gap and improve service reliability. This project demonstrates how basic data analysis techniques can be leveraged to drive operational improvements and create actionable insights for real-world logistics and transportation systems.\n",
        "\n"
      ],
      "metadata": {
        "id": "F6v_1wHtG2nS"
      }
    },
    {
      "cell_type": "markdown",
      "source": [
        "# **GitHub Link -**"
      ],
      "metadata": {
        "id": "w6K7xa23Elo4"
      }
    },
    {
      "cell_type": "markdown",
      "source": [
        "https://github.com/3004-tushti/Tushti-Tiwari--Project-4--Uber-Supply-Demand-Gap.git"
      ],
      "metadata": {
        "id": "h1o69JH3Eqqn"
      }
    },
    {
      "cell_type": "markdown",
      "source": [
        "# **Problem Statement**\n"
      ],
      "metadata": {
        "id": "yQaldy8SH6Dl"
      }
    },
    {
      "cell_type": "markdown",
      "source": [
        "**Write Problem Statement Here.**\n",
        "\n",
        "Uber faces recurring service disruptions due to ride cancellations and cab unavailability, often influenced by location, time of day, and external events. This study aims to analyze cancellation patterns across airport and city pickups, examine correlations with public holidays or strikes, and assess hourly variations in service availability. The goal is to uncover data-driven insights that can inform strategies to reduce the supply-demand gap and enhance service efficiency."
      ],
      "metadata": {
        "id": "DpeJGUA3kjGy"
      }
    },
    {
      "cell_type": "markdown",
      "source": [
        "#### **Define Your Business Objective?**"
      ],
      "metadata": {
        "id": "PH-0ReGfmX4f"
      }
    },
    {
      "cell_type": "markdown",
      "source": [
        "1. To compare cancellation rates between airport and city pickups\n",
        "→ This objective aims to identify whether one pickup location (Airport vs. City) experiences significantly higher ride cancellations, using the Pickup point and Status fields in the dataset.\n",
        "\n",
        "2. To investigate whether spikes in cancellations or lack of car availability correlate with public holidays or driver strikes\n",
        "→ This objective focuses on analyzing daily trends in ride status (e.g., “Cancelled”, “No Cars Available”) and identifying anomalies that may align with known public holidays or labor strikes, using the Request timestamp and Status.\n",
        "\n",
        "3. To analyze the variation in Uber service availability throughout different hours of the day\n",
        "→ This objective involves studying how service statuses vary by time of day (e.g., hourly distribution of “Trip Completed”, “Cancelled”, or “No Cars Available”), using extracted hour values from the Request timestamp."
      ],
      "metadata": {
        "id": "PhDvGCAqmjP1"
      }
    },
    {
      "cell_type": "markdown",
      "source": [
        "# **General Guidelines** : -  "
      ],
      "metadata": {
        "id": "mDgbUHAGgjLW"
      }
    },
    {
      "cell_type": "markdown",
      "source": [
        "1.   Well-structured, formatted, and commented code is required.\n",
        "2.   Exception Handling, Production Grade Code & Deployment Ready Code will be a plus. Those students will be awarded some additional credits.\n",
        "     \n",
        "     The additional credits will have advantages over other students during Star Student selection.\n",
        "       \n",
        "             [ Note: - Deployment Ready Code is defined as, the whole .ipynb notebook should be executable in one go\n",
        "                       without a single error logged. ]\n",
        "\n",
        "3.   Each and every logic should have proper comments.\n",
        "4. You may add as many number of charts you want. Make Sure for each and every chart the following format should be answered.\n",
        "        \n",
        "\n",
        "```\n",
        "# Chart visualization code\n",
        "```\n",
        "            \n",
        "\n",
        "*   Why did you pick the specific chart?\n",
        "*   What is/are the insight(s) found from the chart?\n",
        "* Will the gained insights help creating a positive business impact?\n",
        "Are there any insights that lead to negative growth? Justify with specific reason.\n",
        "\n",
        "5. You have to create at least 20 logical & meaningful charts having important insights.\n",
        "\n",
        "\n",
        "[ Hints : - Do the Vizualization in  a structured way while following \"UBM\" Rule.\n",
        "\n",
        "U - Univariate Analysis,\n",
        "\n",
        "B - Bivariate Analysis (Numerical - Categorical, Numerical - Numerical, Categorical - Categorical)\n",
        "\n",
        "M - Multivariate Analysis\n",
        " ]\n",
        "\n",
        "\n",
        "\n"
      ],
      "metadata": {
        "id": "ZrxVaUj-hHfC"
      }
    },
    {
      "cell_type": "markdown",
      "source": [
        "# ***Let's Begin !***"
      ],
      "metadata": {
        "id": "O_i_v8NEhb9l"
      }
    },
    {
      "cell_type": "markdown",
      "source": [
        "## ***1. Know Your Data***"
      ],
      "metadata": {
        "id": "HhfV-JJviCcP"
      }
    },
    {
      "cell_type": "markdown",
      "source": [
        "### Import Libraries"
      ],
      "metadata": {
        "id": "Y3lxredqlCYt"
      }
    },
    {
      "cell_type": "code",
      "source": [
        "# Import Libraries\n",
        "# Data manipulation and analysis\n",
        "import pandas as pd\n",
        "import numpy as np\n",
        "\n",
        "# Data visualization\n",
        "import matplotlib.pyplot as plt\n",
        "import seaborn as sns\n",
        "\n",
        "# Date and time handling\n",
        "from datetime import datetime"
      ],
      "metadata": {
        "id": "M8Vqi-pPk-HR"
      },
      "execution_count": 68,
      "outputs": []
    },
    {
      "cell_type": "markdown",
      "source": [
        "### Dataset Loading"
      ],
      "metadata": {
        "id": "3RnN4peoiCZX"
      }
    },
    {
      "cell_type": "code",
      "source": [
        "# @title\n",
        "# Load Dataset\n",
        "from google.colab import files\n",
        "uploaded = files.upload()"
      ],
      "metadata": {
        "id": "4CkvbW_SlZ_R",
        "colab": {
          "base_uri": "https://localhost:8080/",
          "height": 73
        },
        "cellView": "form",
        "outputId": "47466019-7492-4558-8e7b-f333d5a1863e"
      },
      "execution_count": 69,
      "outputs": [
        {
          "output_type": "display_data",
          "data": {
            "text/plain": [
              "<IPython.core.display.HTML object>"
            ],
            "text/html": [
              "\n",
              "     <input type=\"file\" id=\"files-5cbd95d6-1204-40a3-a9ea-7ff4371dbc74\" name=\"files[]\" multiple disabled\n",
              "        style=\"border:none\" />\n",
              "     <output id=\"result-5cbd95d6-1204-40a3-a9ea-7ff4371dbc74\">\n",
              "      Upload widget is only available when the cell has been executed in the\n",
              "      current browser session. Please rerun this cell to enable.\n",
              "      </output>\n",
              "      <script>// Copyright 2017 Google LLC\n",
              "//\n",
              "// Licensed under the Apache License, Version 2.0 (the \"License\");\n",
              "// you may not use this file except in compliance with the License.\n",
              "// You may obtain a copy of the License at\n",
              "//\n",
              "//      http://www.apache.org/licenses/LICENSE-2.0\n",
              "//\n",
              "// Unless required by applicable law or agreed to in writing, software\n",
              "// distributed under the License is distributed on an \"AS IS\" BASIS,\n",
              "// WITHOUT WARRANTIES OR CONDITIONS OF ANY KIND, either express or implied.\n",
              "// See the License for the specific language governing permissions and\n",
              "// limitations under the License.\n",
              "\n",
              "/**\n",
              " * @fileoverview Helpers for google.colab Python module.\n",
              " */\n",
              "(function(scope) {\n",
              "function span(text, styleAttributes = {}) {\n",
              "  const element = document.createElement('span');\n",
              "  element.textContent = text;\n",
              "  for (const key of Object.keys(styleAttributes)) {\n",
              "    element.style[key] = styleAttributes[key];\n",
              "  }\n",
              "  return element;\n",
              "}\n",
              "\n",
              "// Max number of bytes which will be uploaded at a time.\n",
              "const MAX_PAYLOAD_SIZE = 100 * 1024;\n",
              "\n",
              "function _uploadFiles(inputId, outputId) {\n",
              "  const steps = uploadFilesStep(inputId, outputId);\n",
              "  const outputElement = document.getElementById(outputId);\n",
              "  // Cache steps on the outputElement to make it available for the next call\n",
              "  // to uploadFilesContinue from Python.\n",
              "  outputElement.steps = steps;\n",
              "\n",
              "  return _uploadFilesContinue(outputId);\n",
              "}\n",
              "\n",
              "// This is roughly an async generator (not supported in the browser yet),\n",
              "// where there are multiple asynchronous steps and the Python side is going\n",
              "// to poll for completion of each step.\n",
              "// This uses a Promise to block the python side on completion of each step,\n",
              "// then passes the result of the previous step as the input to the next step.\n",
              "function _uploadFilesContinue(outputId) {\n",
              "  const outputElement = document.getElementById(outputId);\n",
              "  const steps = outputElement.steps;\n",
              "\n",
              "  const next = steps.next(outputElement.lastPromiseValue);\n",
              "  return Promise.resolve(next.value.promise).then((value) => {\n",
              "    // Cache the last promise value to make it available to the next\n",
              "    // step of the generator.\n",
              "    outputElement.lastPromiseValue = value;\n",
              "    return next.value.response;\n",
              "  });\n",
              "}\n",
              "\n",
              "/**\n",
              " * Generator function which is called between each async step of the upload\n",
              " * process.\n",
              " * @param {string} inputId Element ID of the input file picker element.\n",
              " * @param {string} outputId Element ID of the output display.\n",
              " * @return {!Iterable<!Object>} Iterable of next steps.\n",
              " */\n",
              "function* uploadFilesStep(inputId, outputId) {\n",
              "  const inputElement = document.getElementById(inputId);\n",
              "  inputElement.disabled = false;\n",
              "\n",
              "  const outputElement = document.getElementById(outputId);\n",
              "  outputElement.innerHTML = '';\n",
              "\n",
              "  const pickedPromise = new Promise((resolve) => {\n",
              "    inputElement.addEventListener('change', (e) => {\n",
              "      resolve(e.target.files);\n",
              "    });\n",
              "  });\n",
              "\n",
              "  const cancel = document.createElement('button');\n",
              "  inputElement.parentElement.appendChild(cancel);\n",
              "  cancel.textContent = 'Cancel upload';\n",
              "  const cancelPromise = new Promise((resolve) => {\n",
              "    cancel.onclick = () => {\n",
              "      resolve(null);\n",
              "    };\n",
              "  });\n",
              "\n",
              "  // Wait for the user to pick the files.\n",
              "  const files = yield {\n",
              "    promise: Promise.race([pickedPromise, cancelPromise]),\n",
              "    response: {\n",
              "      action: 'starting',\n",
              "    }\n",
              "  };\n",
              "\n",
              "  cancel.remove();\n",
              "\n",
              "  // Disable the input element since further picks are not allowed.\n",
              "  inputElement.disabled = true;\n",
              "\n",
              "  if (!files) {\n",
              "    return {\n",
              "      response: {\n",
              "        action: 'complete',\n",
              "      }\n",
              "    };\n",
              "  }\n",
              "\n",
              "  for (const file of files) {\n",
              "    const li = document.createElement('li');\n",
              "    li.append(span(file.name, {fontWeight: 'bold'}));\n",
              "    li.append(span(\n",
              "        `(${file.type || 'n/a'}) - ${file.size} bytes, ` +\n",
              "        `last modified: ${\n",
              "            file.lastModifiedDate ? file.lastModifiedDate.toLocaleDateString() :\n",
              "                                    'n/a'} - `));\n",
              "    const percent = span('0% done');\n",
              "    li.appendChild(percent);\n",
              "\n",
              "    outputElement.appendChild(li);\n",
              "\n",
              "    const fileDataPromise = new Promise((resolve) => {\n",
              "      const reader = new FileReader();\n",
              "      reader.onload = (e) => {\n",
              "        resolve(e.target.result);\n",
              "      };\n",
              "      reader.readAsArrayBuffer(file);\n",
              "    });\n",
              "    // Wait for the data to be ready.\n",
              "    let fileData = yield {\n",
              "      promise: fileDataPromise,\n",
              "      response: {\n",
              "        action: 'continue',\n",
              "      }\n",
              "    };\n",
              "\n",
              "    // Use a chunked sending to avoid message size limits. See b/62115660.\n",
              "    let position = 0;\n",
              "    do {\n",
              "      const length = Math.min(fileData.byteLength - position, MAX_PAYLOAD_SIZE);\n",
              "      const chunk = new Uint8Array(fileData, position, length);\n",
              "      position += length;\n",
              "\n",
              "      const base64 = btoa(String.fromCharCode.apply(null, chunk));\n",
              "      yield {\n",
              "        response: {\n",
              "          action: 'append',\n",
              "          file: file.name,\n",
              "          data: base64,\n",
              "        },\n",
              "      };\n",
              "\n",
              "      let percentDone = fileData.byteLength === 0 ?\n",
              "          100 :\n",
              "          Math.round((position / fileData.byteLength) * 100);\n",
              "      percent.textContent = `${percentDone}% done`;\n",
              "\n",
              "    } while (position < fileData.byteLength);\n",
              "  }\n",
              "\n",
              "  // All done.\n",
              "  yield {\n",
              "    response: {\n",
              "      action: 'complete',\n",
              "    }\n",
              "  };\n",
              "}\n",
              "\n",
              "scope.google = scope.google || {};\n",
              "scope.google.colab = scope.google.colab || {};\n",
              "scope.google.colab._files = {\n",
              "  _uploadFiles,\n",
              "  _uploadFilesContinue,\n",
              "};\n",
              "})(self);\n",
              "</script> "
            ]
          },
          "metadata": {}
        },
        {
          "output_type": "stream",
          "name": "stdout",
          "text": [
            "Saving Project 4- for python.xlsx to Project 4- for python (3).xlsx\n"
          ]
        }
      ]
    },
    {
      "cell_type": "code",
      "source": [
        "uploaded.keys()\n"
      ],
      "metadata": {
        "id": "W4VfpL8y-ZZd",
        "colab": {
          "base_uri": "https://localhost:8080/"
        },
        "outputId": "bfc8c436-9f85-4eae-acf7-b857664f2eec"
      },
      "execution_count": 70,
      "outputs": [
        {
          "output_type": "execute_result",
          "data": {
            "text/plain": [
              "dict_keys(['Project 4- for python (3).xlsx'])"
            ]
          },
          "metadata": {},
          "execution_count": 70
        }
      ]
    },
    {
      "cell_type": "code",
      "source": [
        "list(uploaded.keys())"
      ],
      "metadata": {
        "id": "Ue2dcBs_-4Yt",
        "colab": {
          "base_uri": "https://localhost:8080/"
        },
        "outputId": "5a93aa60-e9f5-4fc5-86cd-5c4429e21bb5"
      },
      "execution_count": 71,
      "outputs": [
        {
          "output_type": "execute_result",
          "data": {
            "text/plain": [
              "['Project 4- for python (3).xlsx']"
            ]
          },
          "metadata": {},
          "execution_count": 71
        }
      ]
    },
    {
      "cell_type": "code",
      "source": [
        "df = pd.read_excel('Project 4- for python.xlsx')"
      ],
      "metadata": {
        "id": "w9WYdPqm-_hC"
      },
      "execution_count": 72,
      "outputs": []
    },
    {
      "cell_type": "markdown",
      "source": [
        "### Dataset First View"
      ],
      "metadata": {
        "id": "x71ZqKXriCWQ"
      }
    },
    {
      "cell_type": "code",
      "source": [
        "# Dataset First Look\n",
        "# Display the first 10 rows\n",
        "df.head(10)"
      ],
      "metadata": {
        "id": "LWNFOSvLl09H",
        "colab": {
          "base_uri": "https://localhost:8080/",
          "height": 1000
        },
        "outputId": "5d4914b9-0a8e-4950-e7cd-6416278e7522"
      },
      "execution_count": 73,
      "outputs": [
        {
          "output_type": "execute_result",
          "data": {
            "text/plain": [
              "   Request id Pickup point Cleaned_Driver Id Driver id          Status  \\\n",
              "0         619      Airport                 1         1  Trip Completed   \n",
              "1         867      Airport                 1         1  Trip Completed   \n",
              "2        1807         City                 1         1  Trip Completed   \n",
              "3        2532      Airport                 1         1  Trip Completed   \n",
              "4        3112         City                 1         1  Trip Completed   \n",
              "5        3879      Airport                 1         1  Trip Completed   \n",
              "6        4270      Airport                 1         1  Trip Completed   \n",
              "7        5510      Airport                 1         1  Trip Completed   \n",
              "8        6248         City                 1         1  Trip Completed   \n",
              "9         267         City                 2         2  Trip Completed   \n",
              "\n",
              "    Request timestamp      Drop timestamp  Request Hour Request Day  \\\n",
              "0 2016-11-07 11:51:00 2016-11-07 13:00:00            11      Monday   \n",
              "1 2016-11-07 17:57:00 2016-11-07 18:47:00            17      Monday   \n",
              "2 2016-12-07 09:17:00 2016-12-07 09:58:00             9   Wednesday   \n",
              "3 2016-12-07 21:08:00 2016-12-07 22:03:00            21   Wednesday   \n",
              "4 2016-07-13 08:33:16 2016-07-13 09:25:47             8   Wednesday   \n",
              "5 2016-07-13 21:57:28 2016-07-13 22:28:59            21   Wednesday   \n",
              "6 2016-07-14 06:15:32 2016-07-14 07:13:15             6    Thursday   \n",
              "7 2016-07-15 05:11:52 2016-07-15 06:07:52             5      Friday   \n",
              "8 2016-07-15 17:57:27 2016-07-15 18:50:51            17      Friday   \n",
              "9 2016-11-07 06:46:00 2016-11-07 07:25:00             6      Monday   \n",
              "\n",
              "   Request Duration         Drop_Cleaned  Cleaned_Status Cleaned_Pickup_Point  \\\n",
              "0         69.000000  2016-11-07 13:00:00  Trip Completed              Airport   \n",
              "1         50.000000  2016-11-07 18:47:00  Trip Completed              Airport   \n",
              "2         41.000000  2016-12-07 09:58:00  Trip Completed                 City   \n",
              "3         55.000000  2016-12-07 22:03:00  Trip Completed              Airport   \n",
              "4         52.516667  2016-07-13 09:25:47  Trip Completed                 City   \n",
              "5         31.516667  2016-07-13 22:28:59  Trip Completed              Airport   \n",
              "6         57.716667  2016-07-14 07:13:15  Trip Completed              Airport   \n",
              "7         56.000000  2016-07-15 06:07:52  Trip Completed              Airport   \n",
              "8         53.400000  2016-07-15 18:50:51  Trip Completed                 City   \n",
              "9         39.000000  2016-11-07 07:25:00  Trip Completed                 City   \n",
              "\n",
              "                 TRAVEL DATE     DAY DATE DAY DATE (NUMERICAL COMPUTATION)  \\\n",
              "0  07-Nov-2016 → 07-Nov-2016  07-Nov-2016                       2016-11-07   \n",
              "1  07-Nov-2016 → 07-Nov-2016  07-Nov-2016                       2016-11-07   \n",
              "2  07-Dec-2016 → 07-Dec-2016  07-Dec-2016                       2016-12-07   \n",
              "3  07-Dec-2016 → 07-Dec-2016  07-Dec-2016                       2016-12-07   \n",
              "4  13-Jul-2016 → 13-Jul-2016  13-Jul-2016                       2016-07-13   \n",
              "5  13-Jul-2016 → 13-Jul-2016  13-Jul-2016                       2016-07-13   \n",
              "6  14-Jul-2016 → 14-Jul-2016  14-Jul-2016                       2016-07-14   \n",
              "7  15-Jul-2016 → 15-Jul-2016  15-Jul-2016                       2016-07-15   \n",
              "8  15-Jul-2016 → 15-Jul-2016  15-Jul-2016                       2016-07-15   \n",
              "9  07-Nov-2016 → 07-Nov-2016  07-Nov-2016                       2016-11-07   \n",
              "\n",
              "                                        DAY TYPE  \n",
              "0                                        Holiday  \n",
              "1                                        Holiday  \n",
              "2  Strike/Disruption (Vardah cyclone in Chennai)  \n",
              "3  Strike/Disruption (Vardah cyclone in Chennai)  \n",
              "4                                         Normal  \n",
              "5                                         Normal  \n",
              "6                                         Normal  \n",
              "7                                         Normal  \n",
              "8                                         Normal  \n",
              "9                                        Holiday  "
            ],
            "text/html": [
              "\n",
              "  <div id=\"df-b7cecc2c-8eff-4b44-a8da-0ef78a60cac6\" class=\"colab-df-container\">\n",
              "    <div>\n",
              "<style scoped>\n",
              "    .dataframe tbody tr th:only-of-type {\n",
              "        vertical-align: middle;\n",
              "    }\n",
              "\n",
              "    .dataframe tbody tr th {\n",
              "        vertical-align: top;\n",
              "    }\n",
              "\n",
              "    .dataframe thead th {\n",
              "        text-align: right;\n",
              "    }\n",
              "</style>\n",
              "<table border=\"1\" class=\"dataframe\">\n",
              "  <thead>\n",
              "    <tr style=\"text-align: right;\">\n",
              "      <th></th>\n",
              "      <th>Request id</th>\n",
              "      <th>Pickup point</th>\n",
              "      <th>Cleaned_Driver Id</th>\n",
              "      <th>Driver id</th>\n",
              "      <th>Status</th>\n",
              "      <th>Request timestamp</th>\n",
              "      <th>Drop timestamp</th>\n",
              "      <th>Request Hour</th>\n",
              "      <th>Request Day</th>\n",
              "      <th>Request Duration</th>\n",
              "      <th>Drop_Cleaned</th>\n",
              "      <th>Cleaned_Status</th>\n",
              "      <th>Cleaned_Pickup_Point</th>\n",
              "      <th>TRAVEL DATE</th>\n",
              "      <th>DAY DATE</th>\n",
              "      <th>DAY DATE (NUMERICAL COMPUTATION)</th>\n",
              "      <th>DAY TYPE</th>\n",
              "    </tr>\n",
              "  </thead>\n",
              "  <tbody>\n",
              "    <tr>\n",
              "      <th>0</th>\n",
              "      <td>619</td>\n",
              "      <td>Airport</td>\n",
              "      <td>1</td>\n",
              "      <td>1</td>\n",
              "      <td>Trip Completed</td>\n",
              "      <td>2016-11-07 11:51:00</td>\n",
              "      <td>2016-11-07 13:00:00</td>\n",
              "      <td>11</td>\n",
              "      <td>Monday</td>\n",
              "      <td>69.000000</td>\n",
              "      <td>2016-11-07 13:00:00</td>\n",
              "      <td>Trip Completed</td>\n",
              "      <td>Airport</td>\n",
              "      <td>07-Nov-2016 → 07-Nov-2016</td>\n",
              "      <td>07-Nov-2016</td>\n",
              "      <td>2016-11-07</td>\n",
              "      <td>Holiday</td>\n",
              "    </tr>\n",
              "    <tr>\n",
              "      <th>1</th>\n",
              "      <td>867</td>\n",
              "      <td>Airport</td>\n",
              "      <td>1</td>\n",
              "      <td>1</td>\n",
              "      <td>Trip Completed</td>\n",
              "      <td>2016-11-07 17:57:00</td>\n",
              "      <td>2016-11-07 18:47:00</td>\n",
              "      <td>17</td>\n",
              "      <td>Monday</td>\n",
              "      <td>50.000000</td>\n",
              "      <td>2016-11-07 18:47:00</td>\n",
              "      <td>Trip Completed</td>\n",
              "      <td>Airport</td>\n",
              "      <td>07-Nov-2016 → 07-Nov-2016</td>\n",
              "      <td>07-Nov-2016</td>\n",
              "      <td>2016-11-07</td>\n",
              "      <td>Holiday</td>\n",
              "    </tr>\n",
              "    <tr>\n",
              "      <th>2</th>\n",
              "      <td>1807</td>\n",
              "      <td>City</td>\n",
              "      <td>1</td>\n",
              "      <td>1</td>\n",
              "      <td>Trip Completed</td>\n",
              "      <td>2016-12-07 09:17:00</td>\n",
              "      <td>2016-12-07 09:58:00</td>\n",
              "      <td>9</td>\n",
              "      <td>Wednesday</td>\n",
              "      <td>41.000000</td>\n",
              "      <td>2016-12-07 09:58:00</td>\n",
              "      <td>Trip Completed</td>\n",
              "      <td>City</td>\n",
              "      <td>07-Dec-2016 → 07-Dec-2016</td>\n",
              "      <td>07-Dec-2016</td>\n",
              "      <td>2016-12-07</td>\n",
              "      <td>Strike/Disruption (Vardah cyclone in Chennai)</td>\n",
              "    </tr>\n",
              "    <tr>\n",
              "      <th>3</th>\n",
              "      <td>2532</td>\n",
              "      <td>Airport</td>\n",
              "      <td>1</td>\n",
              "      <td>1</td>\n",
              "      <td>Trip Completed</td>\n",
              "      <td>2016-12-07 21:08:00</td>\n",
              "      <td>2016-12-07 22:03:00</td>\n",
              "      <td>21</td>\n",
              "      <td>Wednesday</td>\n",
              "      <td>55.000000</td>\n",
              "      <td>2016-12-07 22:03:00</td>\n",
              "      <td>Trip Completed</td>\n",
              "      <td>Airport</td>\n",
              "      <td>07-Dec-2016 → 07-Dec-2016</td>\n",
              "      <td>07-Dec-2016</td>\n",
              "      <td>2016-12-07</td>\n",
              "      <td>Strike/Disruption (Vardah cyclone in Chennai)</td>\n",
              "    </tr>\n",
              "    <tr>\n",
              "      <th>4</th>\n",
              "      <td>3112</td>\n",
              "      <td>City</td>\n",
              "      <td>1</td>\n",
              "      <td>1</td>\n",
              "      <td>Trip Completed</td>\n",
              "      <td>2016-07-13 08:33:16</td>\n",
              "      <td>2016-07-13 09:25:47</td>\n",
              "      <td>8</td>\n",
              "      <td>Wednesday</td>\n",
              "      <td>52.516667</td>\n",
              "      <td>2016-07-13 09:25:47</td>\n",
              "      <td>Trip Completed</td>\n",
              "      <td>City</td>\n",
              "      <td>13-Jul-2016 → 13-Jul-2016</td>\n",
              "      <td>13-Jul-2016</td>\n",
              "      <td>2016-07-13</td>\n",
              "      <td>Normal</td>\n",
              "    </tr>\n",
              "    <tr>\n",
              "      <th>5</th>\n",
              "      <td>3879</td>\n",
              "      <td>Airport</td>\n",
              "      <td>1</td>\n",
              "      <td>1</td>\n",
              "      <td>Trip Completed</td>\n",
              "      <td>2016-07-13 21:57:28</td>\n",
              "      <td>2016-07-13 22:28:59</td>\n",
              "      <td>21</td>\n",
              "      <td>Wednesday</td>\n",
              "      <td>31.516667</td>\n",
              "      <td>2016-07-13 22:28:59</td>\n",
              "      <td>Trip Completed</td>\n",
              "      <td>Airport</td>\n",
              "      <td>13-Jul-2016 → 13-Jul-2016</td>\n",
              "      <td>13-Jul-2016</td>\n",
              "      <td>2016-07-13</td>\n",
              "      <td>Normal</td>\n",
              "    </tr>\n",
              "    <tr>\n",
              "      <th>6</th>\n",
              "      <td>4270</td>\n",
              "      <td>Airport</td>\n",
              "      <td>1</td>\n",
              "      <td>1</td>\n",
              "      <td>Trip Completed</td>\n",
              "      <td>2016-07-14 06:15:32</td>\n",
              "      <td>2016-07-14 07:13:15</td>\n",
              "      <td>6</td>\n",
              "      <td>Thursday</td>\n",
              "      <td>57.716667</td>\n",
              "      <td>2016-07-14 07:13:15</td>\n",
              "      <td>Trip Completed</td>\n",
              "      <td>Airport</td>\n",
              "      <td>14-Jul-2016 → 14-Jul-2016</td>\n",
              "      <td>14-Jul-2016</td>\n",
              "      <td>2016-07-14</td>\n",
              "      <td>Normal</td>\n",
              "    </tr>\n",
              "    <tr>\n",
              "      <th>7</th>\n",
              "      <td>5510</td>\n",
              "      <td>Airport</td>\n",
              "      <td>1</td>\n",
              "      <td>1</td>\n",
              "      <td>Trip Completed</td>\n",
              "      <td>2016-07-15 05:11:52</td>\n",
              "      <td>2016-07-15 06:07:52</td>\n",
              "      <td>5</td>\n",
              "      <td>Friday</td>\n",
              "      <td>56.000000</td>\n",
              "      <td>2016-07-15 06:07:52</td>\n",
              "      <td>Trip Completed</td>\n",
              "      <td>Airport</td>\n",
              "      <td>15-Jul-2016 → 15-Jul-2016</td>\n",
              "      <td>15-Jul-2016</td>\n",
              "      <td>2016-07-15</td>\n",
              "      <td>Normal</td>\n",
              "    </tr>\n",
              "    <tr>\n",
              "      <th>8</th>\n",
              "      <td>6248</td>\n",
              "      <td>City</td>\n",
              "      <td>1</td>\n",
              "      <td>1</td>\n",
              "      <td>Trip Completed</td>\n",
              "      <td>2016-07-15 17:57:27</td>\n",
              "      <td>2016-07-15 18:50:51</td>\n",
              "      <td>17</td>\n",
              "      <td>Friday</td>\n",
              "      <td>53.400000</td>\n",
              "      <td>2016-07-15 18:50:51</td>\n",
              "      <td>Trip Completed</td>\n",
              "      <td>City</td>\n",
              "      <td>15-Jul-2016 → 15-Jul-2016</td>\n",
              "      <td>15-Jul-2016</td>\n",
              "      <td>2016-07-15</td>\n",
              "      <td>Normal</td>\n",
              "    </tr>\n",
              "    <tr>\n",
              "      <th>9</th>\n",
              "      <td>267</td>\n",
              "      <td>City</td>\n",
              "      <td>2</td>\n",
              "      <td>2</td>\n",
              "      <td>Trip Completed</td>\n",
              "      <td>2016-11-07 06:46:00</td>\n",
              "      <td>2016-11-07 07:25:00</td>\n",
              "      <td>6</td>\n",
              "      <td>Monday</td>\n",
              "      <td>39.000000</td>\n",
              "      <td>2016-11-07 07:25:00</td>\n",
              "      <td>Trip Completed</td>\n",
              "      <td>City</td>\n",
              "      <td>07-Nov-2016 → 07-Nov-2016</td>\n",
              "      <td>07-Nov-2016</td>\n",
              "      <td>2016-11-07</td>\n",
              "      <td>Holiday</td>\n",
              "    </tr>\n",
              "  </tbody>\n",
              "</table>\n",
              "</div>\n",
              "    <div class=\"colab-df-buttons\">\n",
              "\n",
              "  <div class=\"colab-df-container\">\n",
              "    <button class=\"colab-df-convert\" onclick=\"convertToInteractive('df-b7cecc2c-8eff-4b44-a8da-0ef78a60cac6')\"\n",
              "            title=\"Convert this dataframe to an interactive table.\"\n",
              "            style=\"display:none;\">\n",
              "\n",
              "  <svg xmlns=\"http://www.w3.org/2000/svg\" height=\"24px\" viewBox=\"0 -960 960 960\">\n",
              "    <path d=\"M120-120v-720h720v720H120Zm60-500h600v-160H180v160Zm220 220h160v-160H400v160Zm0 220h160v-160H400v160ZM180-400h160v-160H180v160Zm440 0h160v-160H620v160ZM180-180h160v-160H180v160Zm440 0h160v-160H620v160Z\"/>\n",
              "  </svg>\n",
              "    </button>\n",
              "\n",
              "  <style>\n",
              "    .colab-df-container {\n",
              "      display:flex;\n",
              "      gap: 12px;\n",
              "    }\n",
              "\n",
              "    .colab-df-convert {\n",
              "      background-color: #E8F0FE;\n",
              "      border: none;\n",
              "      border-radius: 50%;\n",
              "      cursor: pointer;\n",
              "      display: none;\n",
              "      fill: #1967D2;\n",
              "      height: 32px;\n",
              "      padding: 0 0 0 0;\n",
              "      width: 32px;\n",
              "    }\n",
              "\n",
              "    .colab-df-convert:hover {\n",
              "      background-color: #E2EBFA;\n",
              "      box-shadow: 0px 1px 2px rgba(60, 64, 67, 0.3), 0px 1px 3px 1px rgba(60, 64, 67, 0.15);\n",
              "      fill: #174EA6;\n",
              "    }\n",
              "\n",
              "    .colab-df-buttons div {\n",
              "      margin-bottom: 4px;\n",
              "    }\n",
              "\n",
              "    [theme=dark] .colab-df-convert {\n",
              "      background-color: #3B4455;\n",
              "      fill: #D2E3FC;\n",
              "    }\n",
              "\n",
              "    [theme=dark] .colab-df-convert:hover {\n",
              "      background-color: #434B5C;\n",
              "      box-shadow: 0px 1px 3px 1px rgba(0, 0, 0, 0.15);\n",
              "      filter: drop-shadow(0px 1px 2px rgba(0, 0, 0, 0.3));\n",
              "      fill: #FFFFFF;\n",
              "    }\n",
              "  </style>\n",
              "\n",
              "    <script>\n",
              "      const buttonEl =\n",
              "        document.querySelector('#df-b7cecc2c-8eff-4b44-a8da-0ef78a60cac6 button.colab-df-convert');\n",
              "      buttonEl.style.display =\n",
              "        google.colab.kernel.accessAllowed ? 'block' : 'none';\n",
              "\n",
              "      async function convertToInteractive(key) {\n",
              "        const element = document.querySelector('#df-b7cecc2c-8eff-4b44-a8da-0ef78a60cac6');\n",
              "        const dataTable =\n",
              "          await google.colab.kernel.invokeFunction('convertToInteractive',\n",
              "                                                    [key], {});\n",
              "        if (!dataTable) return;\n",
              "\n",
              "        const docLinkHtml = 'Like what you see? Visit the ' +\n",
              "          '<a target=\"_blank\" href=https://colab.research.google.com/notebooks/data_table.ipynb>data table notebook</a>'\n",
              "          + ' to learn more about interactive tables.';\n",
              "        element.innerHTML = '';\n",
              "        dataTable['output_type'] = 'display_data';\n",
              "        await google.colab.output.renderOutput(dataTable, element);\n",
              "        const docLink = document.createElement('div');\n",
              "        docLink.innerHTML = docLinkHtml;\n",
              "        element.appendChild(docLink);\n",
              "      }\n",
              "    </script>\n",
              "  </div>\n",
              "\n",
              "\n",
              "    <div id=\"df-f23c2af4-2595-4d15-a500-a089564e78ae\">\n",
              "      <button class=\"colab-df-quickchart\" onclick=\"quickchart('df-f23c2af4-2595-4d15-a500-a089564e78ae')\"\n",
              "                title=\"Suggest charts\"\n",
              "                style=\"display:none;\">\n",
              "\n",
              "<svg xmlns=\"http://www.w3.org/2000/svg\" height=\"24px\"viewBox=\"0 0 24 24\"\n",
              "     width=\"24px\">\n",
              "    <g>\n",
              "        <path d=\"M19 3H5c-1.1 0-2 .9-2 2v14c0 1.1.9 2 2 2h14c1.1 0 2-.9 2-2V5c0-1.1-.9-2-2-2zM9 17H7v-7h2v7zm4 0h-2V7h2v10zm4 0h-2v-4h2v4z\"/>\n",
              "    </g>\n",
              "</svg>\n",
              "      </button>\n",
              "\n",
              "<style>\n",
              "  .colab-df-quickchart {\n",
              "      --bg-color: #E8F0FE;\n",
              "      --fill-color: #1967D2;\n",
              "      --hover-bg-color: #E2EBFA;\n",
              "      --hover-fill-color: #174EA6;\n",
              "      --disabled-fill-color: #AAA;\n",
              "      --disabled-bg-color: #DDD;\n",
              "  }\n",
              "\n",
              "  [theme=dark] .colab-df-quickchart {\n",
              "      --bg-color: #3B4455;\n",
              "      --fill-color: #D2E3FC;\n",
              "      --hover-bg-color: #434B5C;\n",
              "      --hover-fill-color: #FFFFFF;\n",
              "      --disabled-bg-color: #3B4455;\n",
              "      --disabled-fill-color: #666;\n",
              "  }\n",
              "\n",
              "  .colab-df-quickchart {\n",
              "    background-color: var(--bg-color);\n",
              "    border: none;\n",
              "    border-radius: 50%;\n",
              "    cursor: pointer;\n",
              "    display: none;\n",
              "    fill: var(--fill-color);\n",
              "    height: 32px;\n",
              "    padding: 0;\n",
              "    width: 32px;\n",
              "  }\n",
              "\n",
              "  .colab-df-quickchart:hover {\n",
              "    background-color: var(--hover-bg-color);\n",
              "    box-shadow: 0 1px 2px rgba(60, 64, 67, 0.3), 0 1px 3px 1px rgba(60, 64, 67, 0.15);\n",
              "    fill: var(--button-hover-fill-color);\n",
              "  }\n",
              "\n",
              "  .colab-df-quickchart-complete:disabled,\n",
              "  .colab-df-quickchart-complete:disabled:hover {\n",
              "    background-color: var(--disabled-bg-color);\n",
              "    fill: var(--disabled-fill-color);\n",
              "    box-shadow: none;\n",
              "  }\n",
              "\n",
              "  .colab-df-spinner {\n",
              "    border: 2px solid var(--fill-color);\n",
              "    border-color: transparent;\n",
              "    border-bottom-color: var(--fill-color);\n",
              "    animation:\n",
              "      spin 1s steps(1) infinite;\n",
              "  }\n",
              "\n",
              "  @keyframes spin {\n",
              "    0% {\n",
              "      border-color: transparent;\n",
              "      border-bottom-color: var(--fill-color);\n",
              "      border-left-color: var(--fill-color);\n",
              "    }\n",
              "    20% {\n",
              "      border-color: transparent;\n",
              "      border-left-color: var(--fill-color);\n",
              "      border-top-color: var(--fill-color);\n",
              "    }\n",
              "    30% {\n",
              "      border-color: transparent;\n",
              "      border-left-color: var(--fill-color);\n",
              "      border-top-color: var(--fill-color);\n",
              "      border-right-color: var(--fill-color);\n",
              "    }\n",
              "    40% {\n",
              "      border-color: transparent;\n",
              "      border-right-color: var(--fill-color);\n",
              "      border-top-color: var(--fill-color);\n",
              "    }\n",
              "    60% {\n",
              "      border-color: transparent;\n",
              "      border-right-color: var(--fill-color);\n",
              "    }\n",
              "    80% {\n",
              "      border-color: transparent;\n",
              "      border-right-color: var(--fill-color);\n",
              "      border-bottom-color: var(--fill-color);\n",
              "    }\n",
              "    90% {\n",
              "      border-color: transparent;\n",
              "      border-bottom-color: var(--fill-color);\n",
              "    }\n",
              "  }\n",
              "</style>\n",
              "\n",
              "      <script>\n",
              "        async function quickchart(key) {\n",
              "          const quickchartButtonEl =\n",
              "            document.querySelector('#' + key + ' button');\n",
              "          quickchartButtonEl.disabled = true;  // To prevent multiple clicks.\n",
              "          quickchartButtonEl.classList.add('colab-df-spinner');\n",
              "          try {\n",
              "            const charts = await google.colab.kernel.invokeFunction(\n",
              "                'suggestCharts', [key], {});\n",
              "          } catch (error) {\n",
              "            console.error('Error during call to suggestCharts:', error);\n",
              "          }\n",
              "          quickchartButtonEl.classList.remove('colab-df-spinner');\n",
              "          quickchartButtonEl.classList.add('colab-df-quickchart-complete');\n",
              "        }\n",
              "        (() => {\n",
              "          let quickchartButtonEl =\n",
              "            document.querySelector('#df-f23c2af4-2595-4d15-a500-a089564e78ae button');\n",
              "          quickchartButtonEl.style.display =\n",
              "            google.colab.kernel.accessAllowed ? 'block' : 'none';\n",
              "        })();\n",
              "      </script>\n",
              "    </div>\n",
              "\n",
              "    </div>\n",
              "  </div>\n"
            ],
            "application/vnd.google.colaboratory.intrinsic+json": {
              "type": "dataframe",
              "variable_name": "df",
              "summary": "{\n  \"name\": \"df\",\n  \"rows\": 6745,\n  \"fields\": [\n    {\n      \"column\": \"Request id\",\n      \"properties\": {\n        \"dtype\": \"number\",\n        \"std\": 1955,\n        \"min\": 1,\n        \"max\": 6766,\n        \"num_unique_values\": 6745,\n        \"samples\": [\n          2761,\n          1342,\n          44\n        ],\n        \"semantic_type\": \"\",\n        \"description\": \"\"\n      }\n    },\n    {\n      \"column\": \"Pickup point\",\n      \"properties\": {\n        \"dtype\": \"category\",\n        \"num_unique_values\": 2,\n        \"samples\": [\n          \"City\",\n          \"Airport\"\n        ],\n        \"semantic_type\": \"\",\n        \"description\": \"\"\n      }\n    },\n    {\n      \"column\": \"Cleaned_Driver Id\",\n      \"properties\": {\n        \"dtype\": \"category\",\n        \"num_unique_values\": 301,\n        \"samples\": [\n          178,\n          290\n        ],\n        \"semantic_type\": \"\",\n        \"description\": \"\"\n      }\n    },\n    {\n      \"column\": \"Driver id\",\n      \"properties\": {\n        \"dtype\": \"category\",\n        \"num_unique_values\": 301,\n        \"samples\": [\n          178,\n          290\n        ],\n        \"semantic_type\": \"\",\n        \"description\": \"\"\n      }\n    },\n    {\n      \"column\": \"Status\",\n      \"properties\": {\n        \"dtype\": \"category\",\n        \"num_unique_values\": 3,\n        \"samples\": [\n          \"Trip Completed\",\n          \"Cancelled\"\n        ],\n        \"semantic_type\": \"\",\n        \"description\": \"\"\n      }\n    },\n    {\n      \"column\": \"Request timestamp\",\n      \"properties\": {\n        \"dtype\": \"date\",\n        \"min\": \"2016-07-11 00:24:00\",\n        \"max\": \"2016-12-07 23:54:00\",\n        \"num_unique_values\": 5856,\n        \"samples\": [\n          \"2016-11-07 21:37:00\",\n          \"2016-07-12 21:39:00\"\n        ],\n        \"semantic_type\": \"\",\n        \"description\": \"\"\n      }\n    },\n    {\n      \"column\": \"Drop timestamp\",\n      \"properties\": {\n        \"dtype\": \"date\",\n        \"min\": \"2016-07-13 00:01:12\",\n        \"max\": \"2016-12-07 23:45:00\",\n        \"num_unique_values\": 2598,\n        \"samples\": [\n          \"2016-07-15 06:50:02\",\n          \"2016-07-13 16:11:42\"\n        ],\n        \"semantic_type\": \"\",\n        \"description\": \"\"\n      }\n    },\n    {\n      \"column\": \"Request Hour\",\n      \"properties\": {\n        \"dtype\": \"number\",\n        \"std\": 6,\n        \"min\": 0,\n        \"max\": 23,\n        \"num_unique_values\": 24,\n        \"samples\": [\n          4,\n          16\n        ],\n        \"semantic_type\": \"\",\n        \"description\": \"\"\n      }\n    },\n    {\n      \"column\": \"Request Day\",\n      \"properties\": {\n        \"dtype\": \"category\",\n        \"num_unique_values\": 5,\n        \"samples\": [\n          \"Wednesday\",\n          \"Tuesday\"\n        ],\n        \"semantic_type\": \"\",\n        \"description\": \"\"\n      }\n    },\n    {\n      \"column\": \"Request Duration\",\n      \"properties\": {\n        \"dtype\": \"number\",\n        \"std\": 72094.43725245965,\n        \"min\": -213086.08333333628,\n        \"max\": 213202.99999999814,\n        \"num_unique_values\": 1639,\n        \"samples\": [\n          47.083333338378,\n          68.74999999883585\n        ],\n        \"semantic_type\": \"\",\n        \"description\": \"\"\n      }\n    },\n    {\n      \"column\": \"Drop_Cleaned\",\n      \"properties\": {\n        \"dtype\": \"category\",\n        \"num_unique_values\": 2599,\n        \"samples\": [\n          \"2016-07-13 20:01:21\",\n          \"2016-07-14 09:12:02\"\n        ],\n        \"semantic_type\": \"\",\n        \"description\": \"\"\n      }\n    },\n    {\n      \"column\": \"Cleaned_Status\",\n      \"properties\": {\n        \"dtype\": \"category\",\n        \"num_unique_values\": 3,\n        \"samples\": [\n          \"Trip Completed\",\n          \"Cancelled\"\n        ],\n        \"semantic_type\": \"\",\n        \"description\": \"\"\n      }\n    },\n    {\n      \"column\": \"Cleaned_Pickup_Point\",\n      \"properties\": {\n        \"dtype\": \"category\",\n        \"num_unique_values\": 2,\n        \"samples\": [\n          \"City\",\n          \"Airport\"\n        ],\n        \"semantic_type\": \"\",\n        \"description\": \"\"\n      }\n    },\n    {\n      \"column\": \"TRAVEL DATE\",\n      \"properties\": {\n        \"dtype\": \"category\",\n        \"num_unique_values\": 20,\n        \"samples\": [\n          \"07-Nov-2016 \\u2192 07-Nov-2016\",\n          \"07-Dec-2016 \\u2192 NA\"\n        ],\n        \"semantic_type\": \"\",\n        \"description\": \"\"\n      }\n    },\n    {\n      \"column\": \"DAY DATE\",\n      \"properties\": {\n        \"dtype\": \"object\",\n        \"num_unique_values\": 7,\n        \"samples\": [\n          \"07-Nov-2016\",\n          \"07-Dec-2016\"\n        ],\n        \"semantic_type\": \"\",\n        \"description\": \"\"\n      }\n    },\n    {\n      \"column\": \"DAY DATE (NUMERICAL COMPUTATION)\",\n      \"properties\": {\n        \"dtype\": \"date\",\n        \"min\": \"2016-07-11 00:00:00\",\n        \"max\": \"2016-12-07 00:00:00\",\n        \"num_unique_values\": 7,\n        \"samples\": [\n          \"2016-11-07 00:00:00\",\n          \"2016-12-07 00:00:00\"\n        ],\n        \"semantic_type\": \"\",\n        \"description\": \"\"\n      }\n    },\n    {\n      \"column\": \"DAY TYPE\",\n      \"properties\": {\n        \"dtype\": \"category\",\n        \"num_unique_values\": 3,\n        \"samples\": [\n          \"Holiday\",\n          \"Strike/Disruption (Vardah cyclone in Chennai)\"\n        ],\n        \"semantic_type\": \"\",\n        \"description\": \"\"\n      }\n    }\n  ]\n}"
            }
          },
          "metadata": {},
          "execution_count": 73
        }
      ]
    },
    {
      "cell_type": "markdown",
      "source": [
        "### Dataset Rows & Columns count"
      ],
      "metadata": {
        "id": "7hBIi_osiCS2"
      }
    },
    {
      "cell_type": "code",
      "source": [
        "# Dataset Rows & Columns count\n",
        "df.shape\n",
        "rows, columns = df.shape\n",
        "print(f\"Number of rows: {rows}\")\n",
        "print(f\"Number of columns: {columns}\")\n"
      ],
      "metadata": {
        "id": "Kllu7SJgmLij",
        "colab": {
          "base_uri": "https://localhost:8080/"
        },
        "outputId": "6c19ffc7-dc4a-4594-96f5-36a31f5c6f3e"
      },
      "execution_count": 74,
      "outputs": [
        {
          "output_type": "stream",
          "name": "stdout",
          "text": [
            "Number of rows: 6745\n",
            "Number of columns: 17\n"
          ]
        }
      ]
    },
    {
      "cell_type": "markdown",
      "source": [
        "### Dataset Information"
      ],
      "metadata": {
        "id": "JlHwYmJAmNHm"
      }
    },
    {
      "cell_type": "code",
      "source": [
        "# Dataset Info\n",
        "df.info()"
      ],
      "metadata": {
        "id": "e9hRXRi6meOf",
        "colab": {
          "base_uri": "https://localhost:8080/"
        },
        "outputId": "72484784-f2c0-471e-af82-9967d882db88"
      },
      "execution_count": 75,
      "outputs": [
        {
          "output_type": "stream",
          "name": "stdout",
          "text": [
            "<class 'pandas.core.frame.DataFrame'>\n",
            "RangeIndex: 6745 entries, 0 to 6744\n",
            "Data columns (total 17 columns):\n",
            " #   Column                            Non-Null Count  Dtype         \n",
            "---  ------                            --------------  -----         \n",
            " 0   Request id                        6745 non-null   int64         \n",
            " 1   Pickup point                      6745 non-null   object        \n",
            " 2   Cleaned_Driver Id                 6745 non-null   object        \n",
            " 3   Driver id                         6745 non-null   object        \n",
            " 4   Status                            6745 non-null   object        \n",
            " 5   Request timestamp                 6745 non-null   datetime64[ns]\n",
            " 6   Drop timestamp                    2831 non-null   datetime64[ns]\n",
            " 7   Request Hour                      6745 non-null   int64         \n",
            " 8   Request Day                       6745 non-null   object        \n",
            " 9   Request Duration                  2831 non-null   float64       \n",
            " 10  Drop_Cleaned                      6745 non-null   object        \n",
            " 11  Cleaned_Status                    6745 non-null   object        \n",
            " 12  Cleaned_Pickup_Point              6745 non-null   object        \n",
            " 13  TRAVEL DATE                       6745 non-null   object        \n",
            " 14  DAY DATE                          6745 non-null   object        \n",
            " 15  DAY DATE (NUMERICAL COMPUTATION)  6745 non-null   datetime64[ns]\n",
            " 16  DAY TYPE                          6745 non-null   object        \n",
            "dtypes: datetime64[ns](3), float64(1), int64(2), object(11)\n",
            "memory usage: 895.9+ KB\n"
          ]
        }
      ]
    },
    {
      "cell_type": "markdown",
      "source": [
        "### What did you know about your dataset?"
      ],
      "metadata": {
        "id": "H0kj-8xxnORC"
      }
    },
    {
      "cell_type": "markdown",
      "source": [
        "Looking at this dataset, it seems like we’re dealing with data from a ride-hailing or cab booking service — think something along the lines of Uber or Ola. There are 6,745 individual ride requests logged here, and each row basically tells the story of a single customer's ride attempt: when they booked, where they were, what happened with the ride, and who the driver was.\n",
        "\n",
        "The data captures a lot more than just trips. It records whether a ride was successfully completed, cancelled, or never got a cab at all (those frustrating “No Cars Available” moments). That's useful, because it allows us to look beyond just performance and into areas where the service may be failing or falling short.\n",
        "\n",
        "The time-related data — like the exact hour and day a ride was requested — gives us a chance to explore rush hour patterns or identify when the system gets overwhelmed. For instance, if cancellations spike at 9 AM on Mondays, that’s a red flag worth investigating.\n",
        "\n",
        "Interestingly, there’s also a “Cleaned” version of some data columns, like the driver ID and status, which suggests someone has already tried to tidy up the messier parts of the raw data. That’s great news — it means we can probably jump straight into analysis without spending too much time fixing inconsistencies.\n",
        "\n",
        "A huge chunk of the requests (over half!) don’t have a drop time or duration. That means they likely didn’t get completed. So if you're planning to use this for performance analysis or decision-making, that gap is something to keep in mind. It might reflect high demand with not enough drivers — or maybe customer drop-offs due to wait times.\n",
        "\n",
        "All in all, this dataset feels like a rich snapshot of what’s happening under the hood of a cab service: where things are working, where they’re not, and how time, location, and availability all play a role in shaping the customer experience."
      ],
      "metadata": {
        "id": "gfoNAAC-nUe_"
      }
    },
    {
      "cell_type": "markdown",
      "source": [
        "## ***2. Understanding Your Variables***"
      ],
      "metadata": {
        "id": "nA9Y7ga8ng1Z"
      }
    },
    {
      "cell_type": "code",
      "source": [
        "# Dataset Columns\n",
        "# Display all column names\n",
        "df.columns.tolist()\n",
        "for col in df.columns:\n",
        "    print(col)"
      ],
      "metadata": {
        "id": "j7xfkqrt5Ag5",
        "colab": {
          "base_uri": "https://localhost:8080/"
        },
        "outputId": "e179df22-9950-4c67-9d97-859c5cde575f"
      },
      "execution_count": 76,
      "outputs": [
        {
          "output_type": "stream",
          "name": "stdout",
          "text": [
            "Request id\n",
            "Pickup point\n",
            "Cleaned_Driver Id\n",
            "Driver id\n",
            "Status\n",
            "Request timestamp\n",
            "Drop timestamp\n",
            "Request Hour\n",
            "Request Day\n",
            "Request Duration\n",
            "Drop_Cleaned\n",
            "Cleaned_Status\n",
            "Cleaned_Pickup_Point\n",
            "TRAVEL DATE\n",
            "DAY DATE\n",
            "DAY DATE (NUMERICAL COMPUTATION)\n",
            "DAY TYPE\n"
          ]
        }
      ]
    },
    {
      "cell_type": "code",
      "source": [
        "# Dataset Describe\n",
        "# Summary of numerical columns\n",
        "df.describe()\n",
        "df.describe(include='all')"
      ],
      "metadata": {
        "id": "DnOaZdaE5Q5t",
        "colab": {
          "base_uri": "https://localhost:8080/",
          "height": 587
        },
        "outputId": "9e673e96-a082-4452-eb8c-4ac3e558b39e"
      },
      "execution_count": 77,
      "outputs": [
        {
          "output_type": "execute_result",
          "data": {
            "text/plain": [
              "         Request id Pickup point Cleaned_Driver Id Driver id          Status  \\\n",
              "count   6745.000000         6745              6745      6745            6745   \n",
              "unique          NaN            2               301       301               3   \n",
              "top             NaN         City       Unavailable    Blanks  Trip Completed   \n",
              "freq            NaN         3507              2650      2650            2831   \n",
              "mean    3384.644922          NaN               NaN       NaN             NaN   \n",
              "min        1.000000          NaN               NaN       NaN             NaN   \n",
              "25%     1691.000000          NaN               NaN       NaN             NaN   \n",
              "50%     3387.000000          NaN               NaN       NaN             NaN   \n",
              "75%     5080.000000          NaN               NaN       NaN             NaN   \n",
              "max     6766.000000          NaN               NaN       NaN             NaN   \n",
              "std     1955.099667          NaN               NaN       NaN             NaN   \n",
              "\n",
              "                    Request timestamp                 Drop timestamp  \\\n",
              "count                            6745                           2831   \n",
              "unique                            NaN                            NaN   \n",
              "top                               NaN                            NaN   \n",
              "freq                              NaN                            NaN   \n",
              "mean    2016-08-23 06:08:45.711489792  2016-09-05 17:03:26.523843072   \n",
              "min               2016-07-11 00:24:00            2016-07-13 00:01:12   \n",
              "25%               2016-07-13 20:40:37     2016-07-14 08:10:24.500000   \n",
              "50%               2016-07-15 04:10:18            2016-07-15 15:27:41   \n",
              "75%               2016-11-07 09:17:00            2016-11-07 19:25:30   \n",
              "max               2016-12-07 23:54:00            2016-12-07 23:45:00   \n",
              "std                               NaN                            NaN   \n",
              "\n",
              "        Request Hour Request Day  Request Duration Drop_Cleaned  \\\n",
              "count    6745.000000        6745       2831.000000         6745   \n",
              "unique           NaN           5               NaN         2599   \n",
              "top              NaN   Wednesday               NaN  Unavailable   \n",
              "freq             NaN        2285               NaN         3914   \n",
              "mean       12.956709         NaN      30442.975391          NaN   \n",
              "min         0.000000         NaN    -213086.083333          NaN   \n",
              "25%         7.000000         NaN         43.000000          NaN   \n",
              "50%        13.000000         NaN         56.733333          NaN   \n",
              "75%        19.000000         NaN         71.308333          NaN   \n",
              "max        23.000000         NaN     213203.000000          NaN   \n",
              "std         6.504052         NaN      72094.437252          NaN   \n",
              "\n",
              "        Cleaned_Status Cleaned_Pickup_Point       TRAVEL DATE     DAY DATE  \\\n",
              "count             6745                 6745              6745         6745   \n",
              "unique               3                    2                20            7   \n",
              "top     Trip Completed                 City  14-Jul-2016 → NA  15-Jul-2016   \n",
              "freq              2831                 3507               823         1381   \n",
              "mean               NaN                  NaN               NaN          NaN   \n",
              "min                NaN                  NaN               NaN          NaN   \n",
              "25%                NaN                  NaN               NaN          NaN   \n",
              "50%                NaN                  NaN               NaN          NaN   \n",
              "75%                NaN                  NaN               NaN          NaN   \n",
              "max                NaN                  NaN               NaN          NaN   \n",
              "std                NaN                  NaN               NaN          NaN   \n",
              "\n",
              "       DAY DATE (NUMERICAL COMPUTATION) DAY TYPE  \n",
              "count                              6745     6745  \n",
              "unique                              NaN        3  \n",
              "top                                 NaN   Normal  \n",
              "freq                                NaN     4670  \n",
              "mean      2016-08-22 16:41:29.310600448      NaN  \n",
              "min                 2016-07-11 00:00:00      NaN  \n",
              "25%                 2016-07-13 00:00:00      NaN  \n",
              "50%                 2016-07-15 00:00:00      NaN  \n",
              "75%                 2016-11-07 00:00:00      NaN  \n",
              "max                 2016-12-07 00:00:00      NaN  \n",
              "std                                 NaN      NaN  "
            ],
            "text/html": [
              "\n",
              "  <div id=\"df-171d0a74-6a33-4162-beb2-8636dfd7ee42\" class=\"colab-df-container\">\n",
              "    <div>\n",
              "<style scoped>\n",
              "    .dataframe tbody tr th:only-of-type {\n",
              "        vertical-align: middle;\n",
              "    }\n",
              "\n",
              "    .dataframe tbody tr th {\n",
              "        vertical-align: top;\n",
              "    }\n",
              "\n",
              "    .dataframe thead th {\n",
              "        text-align: right;\n",
              "    }\n",
              "</style>\n",
              "<table border=\"1\" class=\"dataframe\">\n",
              "  <thead>\n",
              "    <tr style=\"text-align: right;\">\n",
              "      <th></th>\n",
              "      <th>Request id</th>\n",
              "      <th>Pickup point</th>\n",
              "      <th>Cleaned_Driver Id</th>\n",
              "      <th>Driver id</th>\n",
              "      <th>Status</th>\n",
              "      <th>Request timestamp</th>\n",
              "      <th>Drop timestamp</th>\n",
              "      <th>Request Hour</th>\n",
              "      <th>Request Day</th>\n",
              "      <th>Request Duration</th>\n",
              "      <th>Drop_Cleaned</th>\n",
              "      <th>Cleaned_Status</th>\n",
              "      <th>Cleaned_Pickup_Point</th>\n",
              "      <th>TRAVEL DATE</th>\n",
              "      <th>DAY DATE</th>\n",
              "      <th>DAY DATE (NUMERICAL COMPUTATION)</th>\n",
              "      <th>DAY TYPE</th>\n",
              "    </tr>\n",
              "  </thead>\n",
              "  <tbody>\n",
              "    <tr>\n",
              "      <th>count</th>\n",
              "      <td>6745.000000</td>\n",
              "      <td>6745</td>\n",
              "      <td>6745</td>\n",
              "      <td>6745</td>\n",
              "      <td>6745</td>\n",
              "      <td>6745</td>\n",
              "      <td>2831</td>\n",
              "      <td>6745.000000</td>\n",
              "      <td>6745</td>\n",
              "      <td>2831.000000</td>\n",
              "      <td>6745</td>\n",
              "      <td>6745</td>\n",
              "      <td>6745</td>\n",
              "      <td>6745</td>\n",
              "      <td>6745</td>\n",
              "      <td>6745</td>\n",
              "      <td>6745</td>\n",
              "    </tr>\n",
              "    <tr>\n",
              "      <th>unique</th>\n",
              "      <td>NaN</td>\n",
              "      <td>2</td>\n",
              "      <td>301</td>\n",
              "      <td>301</td>\n",
              "      <td>3</td>\n",
              "      <td>NaN</td>\n",
              "      <td>NaN</td>\n",
              "      <td>NaN</td>\n",
              "      <td>5</td>\n",
              "      <td>NaN</td>\n",
              "      <td>2599</td>\n",
              "      <td>3</td>\n",
              "      <td>2</td>\n",
              "      <td>20</td>\n",
              "      <td>7</td>\n",
              "      <td>NaN</td>\n",
              "      <td>3</td>\n",
              "    </tr>\n",
              "    <tr>\n",
              "      <th>top</th>\n",
              "      <td>NaN</td>\n",
              "      <td>City</td>\n",
              "      <td>Unavailable</td>\n",
              "      <td>Blanks</td>\n",
              "      <td>Trip Completed</td>\n",
              "      <td>NaN</td>\n",
              "      <td>NaN</td>\n",
              "      <td>NaN</td>\n",
              "      <td>Wednesday</td>\n",
              "      <td>NaN</td>\n",
              "      <td>Unavailable</td>\n",
              "      <td>Trip Completed</td>\n",
              "      <td>City</td>\n",
              "      <td>14-Jul-2016 → NA</td>\n",
              "      <td>15-Jul-2016</td>\n",
              "      <td>NaN</td>\n",
              "      <td>Normal</td>\n",
              "    </tr>\n",
              "    <tr>\n",
              "      <th>freq</th>\n",
              "      <td>NaN</td>\n",
              "      <td>3507</td>\n",
              "      <td>2650</td>\n",
              "      <td>2650</td>\n",
              "      <td>2831</td>\n",
              "      <td>NaN</td>\n",
              "      <td>NaN</td>\n",
              "      <td>NaN</td>\n",
              "      <td>2285</td>\n",
              "      <td>NaN</td>\n",
              "      <td>3914</td>\n",
              "      <td>2831</td>\n",
              "      <td>3507</td>\n",
              "      <td>823</td>\n",
              "      <td>1381</td>\n",
              "      <td>NaN</td>\n",
              "      <td>4670</td>\n",
              "    </tr>\n",
              "    <tr>\n",
              "      <th>mean</th>\n",
              "      <td>3384.644922</td>\n",
              "      <td>NaN</td>\n",
              "      <td>NaN</td>\n",
              "      <td>NaN</td>\n",
              "      <td>NaN</td>\n",
              "      <td>2016-08-23 06:08:45.711489792</td>\n",
              "      <td>2016-09-05 17:03:26.523843072</td>\n",
              "      <td>12.956709</td>\n",
              "      <td>NaN</td>\n",
              "      <td>30442.975391</td>\n",
              "      <td>NaN</td>\n",
              "      <td>NaN</td>\n",
              "      <td>NaN</td>\n",
              "      <td>NaN</td>\n",
              "      <td>NaN</td>\n",
              "      <td>2016-08-22 16:41:29.310600448</td>\n",
              "      <td>NaN</td>\n",
              "    </tr>\n",
              "    <tr>\n",
              "      <th>min</th>\n",
              "      <td>1.000000</td>\n",
              "      <td>NaN</td>\n",
              "      <td>NaN</td>\n",
              "      <td>NaN</td>\n",
              "      <td>NaN</td>\n",
              "      <td>2016-07-11 00:24:00</td>\n",
              "      <td>2016-07-13 00:01:12</td>\n",
              "      <td>0.000000</td>\n",
              "      <td>NaN</td>\n",
              "      <td>-213086.083333</td>\n",
              "      <td>NaN</td>\n",
              "      <td>NaN</td>\n",
              "      <td>NaN</td>\n",
              "      <td>NaN</td>\n",
              "      <td>NaN</td>\n",
              "      <td>2016-07-11 00:00:00</td>\n",
              "      <td>NaN</td>\n",
              "    </tr>\n",
              "    <tr>\n",
              "      <th>25%</th>\n",
              "      <td>1691.000000</td>\n",
              "      <td>NaN</td>\n",
              "      <td>NaN</td>\n",
              "      <td>NaN</td>\n",
              "      <td>NaN</td>\n",
              "      <td>2016-07-13 20:40:37</td>\n",
              "      <td>2016-07-14 08:10:24.500000</td>\n",
              "      <td>7.000000</td>\n",
              "      <td>NaN</td>\n",
              "      <td>43.000000</td>\n",
              "      <td>NaN</td>\n",
              "      <td>NaN</td>\n",
              "      <td>NaN</td>\n",
              "      <td>NaN</td>\n",
              "      <td>NaN</td>\n",
              "      <td>2016-07-13 00:00:00</td>\n",
              "      <td>NaN</td>\n",
              "    </tr>\n",
              "    <tr>\n",
              "      <th>50%</th>\n",
              "      <td>3387.000000</td>\n",
              "      <td>NaN</td>\n",
              "      <td>NaN</td>\n",
              "      <td>NaN</td>\n",
              "      <td>NaN</td>\n",
              "      <td>2016-07-15 04:10:18</td>\n",
              "      <td>2016-07-15 15:27:41</td>\n",
              "      <td>13.000000</td>\n",
              "      <td>NaN</td>\n",
              "      <td>56.733333</td>\n",
              "      <td>NaN</td>\n",
              "      <td>NaN</td>\n",
              "      <td>NaN</td>\n",
              "      <td>NaN</td>\n",
              "      <td>NaN</td>\n",
              "      <td>2016-07-15 00:00:00</td>\n",
              "      <td>NaN</td>\n",
              "    </tr>\n",
              "    <tr>\n",
              "      <th>75%</th>\n",
              "      <td>5080.000000</td>\n",
              "      <td>NaN</td>\n",
              "      <td>NaN</td>\n",
              "      <td>NaN</td>\n",
              "      <td>NaN</td>\n",
              "      <td>2016-11-07 09:17:00</td>\n",
              "      <td>2016-11-07 19:25:30</td>\n",
              "      <td>19.000000</td>\n",
              "      <td>NaN</td>\n",
              "      <td>71.308333</td>\n",
              "      <td>NaN</td>\n",
              "      <td>NaN</td>\n",
              "      <td>NaN</td>\n",
              "      <td>NaN</td>\n",
              "      <td>NaN</td>\n",
              "      <td>2016-11-07 00:00:00</td>\n",
              "      <td>NaN</td>\n",
              "    </tr>\n",
              "    <tr>\n",
              "      <th>max</th>\n",
              "      <td>6766.000000</td>\n",
              "      <td>NaN</td>\n",
              "      <td>NaN</td>\n",
              "      <td>NaN</td>\n",
              "      <td>NaN</td>\n",
              "      <td>2016-12-07 23:54:00</td>\n",
              "      <td>2016-12-07 23:45:00</td>\n",
              "      <td>23.000000</td>\n",
              "      <td>NaN</td>\n",
              "      <td>213203.000000</td>\n",
              "      <td>NaN</td>\n",
              "      <td>NaN</td>\n",
              "      <td>NaN</td>\n",
              "      <td>NaN</td>\n",
              "      <td>NaN</td>\n",
              "      <td>2016-12-07 00:00:00</td>\n",
              "      <td>NaN</td>\n",
              "    </tr>\n",
              "    <tr>\n",
              "      <th>std</th>\n",
              "      <td>1955.099667</td>\n",
              "      <td>NaN</td>\n",
              "      <td>NaN</td>\n",
              "      <td>NaN</td>\n",
              "      <td>NaN</td>\n",
              "      <td>NaN</td>\n",
              "      <td>NaN</td>\n",
              "      <td>6.504052</td>\n",
              "      <td>NaN</td>\n",
              "      <td>72094.437252</td>\n",
              "      <td>NaN</td>\n",
              "      <td>NaN</td>\n",
              "      <td>NaN</td>\n",
              "      <td>NaN</td>\n",
              "      <td>NaN</td>\n",
              "      <td>NaN</td>\n",
              "      <td>NaN</td>\n",
              "    </tr>\n",
              "  </tbody>\n",
              "</table>\n",
              "</div>\n",
              "    <div class=\"colab-df-buttons\">\n",
              "\n",
              "  <div class=\"colab-df-container\">\n",
              "    <button class=\"colab-df-convert\" onclick=\"convertToInteractive('df-171d0a74-6a33-4162-beb2-8636dfd7ee42')\"\n",
              "            title=\"Convert this dataframe to an interactive table.\"\n",
              "            style=\"display:none;\">\n",
              "\n",
              "  <svg xmlns=\"http://www.w3.org/2000/svg\" height=\"24px\" viewBox=\"0 -960 960 960\">\n",
              "    <path d=\"M120-120v-720h720v720H120Zm60-500h600v-160H180v160Zm220 220h160v-160H400v160Zm0 220h160v-160H400v160ZM180-400h160v-160H180v160Zm440 0h160v-160H620v160ZM180-180h160v-160H180v160Zm440 0h160v-160H620v160Z\"/>\n",
              "  </svg>\n",
              "    </button>\n",
              "\n",
              "  <style>\n",
              "    .colab-df-container {\n",
              "      display:flex;\n",
              "      gap: 12px;\n",
              "    }\n",
              "\n",
              "    .colab-df-convert {\n",
              "      background-color: #E8F0FE;\n",
              "      border: none;\n",
              "      border-radius: 50%;\n",
              "      cursor: pointer;\n",
              "      display: none;\n",
              "      fill: #1967D2;\n",
              "      height: 32px;\n",
              "      padding: 0 0 0 0;\n",
              "      width: 32px;\n",
              "    }\n",
              "\n",
              "    .colab-df-convert:hover {\n",
              "      background-color: #E2EBFA;\n",
              "      box-shadow: 0px 1px 2px rgba(60, 64, 67, 0.3), 0px 1px 3px 1px rgba(60, 64, 67, 0.15);\n",
              "      fill: #174EA6;\n",
              "    }\n",
              "\n",
              "    .colab-df-buttons div {\n",
              "      margin-bottom: 4px;\n",
              "    }\n",
              "\n",
              "    [theme=dark] .colab-df-convert {\n",
              "      background-color: #3B4455;\n",
              "      fill: #D2E3FC;\n",
              "    }\n",
              "\n",
              "    [theme=dark] .colab-df-convert:hover {\n",
              "      background-color: #434B5C;\n",
              "      box-shadow: 0px 1px 3px 1px rgba(0, 0, 0, 0.15);\n",
              "      filter: drop-shadow(0px 1px 2px rgba(0, 0, 0, 0.3));\n",
              "      fill: #FFFFFF;\n",
              "    }\n",
              "  </style>\n",
              "\n",
              "    <script>\n",
              "      const buttonEl =\n",
              "        document.querySelector('#df-171d0a74-6a33-4162-beb2-8636dfd7ee42 button.colab-df-convert');\n",
              "      buttonEl.style.display =\n",
              "        google.colab.kernel.accessAllowed ? 'block' : 'none';\n",
              "\n",
              "      async function convertToInteractive(key) {\n",
              "        const element = document.querySelector('#df-171d0a74-6a33-4162-beb2-8636dfd7ee42');\n",
              "        const dataTable =\n",
              "          await google.colab.kernel.invokeFunction('convertToInteractive',\n",
              "                                                    [key], {});\n",
              "        if (!dataTable) return;\n",
              "\n",
              "        const docLinkHtml = 'Like what you see? Visit the ' +\n",
              "          '<a target=\"_blank\" href=https://colab.research.google.com/notebooks/data_table.ipynb>data table notebook</a>'\n",
              "          + ' to learn more about interactive tables.';\n",
              "        element.innerHTML = '';\n",
              "        dataTable['output_type'] = 'display_data';\n",
              "        await google.colab.output.renderOutput(dataTable, element);\n",
              "        const docLink = document.createElement('div');\n",
              "        docLink.innerHTML = docLinkHtml;\n",
              "        element.appendChild(docLink);\n",
              "      }\n",
              "    </script>\n",
              "  </div>\n",
              "\n",
              "\n",
              "    <div id=\"df-f5b0bcbe-a4cc-4aca-ab8c-b5a9a39f581b\">\n",
              "      <button class=\"colab-df-quickchart\" onclick=\"quickchart('df-f5b0bcbe-a4cc-4aca-ab8c-b5a9a39f581b')\"\n",
              "                title=\"Suggest charts\"\n",
              "                style=\"display:none;\">\n",
              "\n",
              "<svg xmlns=\"http://www.w3.org/2000/svg\" height=\"24px\"viewBox=\"0 0 24 24\"\n",
              "     width=\"24px\">\n",
              "    <g>\n",
              "        <path d=\"M19 3H5c-1.1 0-2 .9-2 2v14c0 1.1.9 2 2 2h14c1.1 0 2-.9 2-2V5c0-1.1-.9-2-2-2zM9 17H7v-7h2v7zm4 0h-2V7h2v10zm4 0h-2v-4h2v4z\"/>\n",
              "    </g>\n",
              "</svg>\n",
              "      </button>\n",
              "\n",
              "<style>\n",
              "  .colab-df-quickchart {\n",
              "      --bg-color: #E8F0FE;\n",
              "      --fill-color: #1967D2;\n",
              "      --hover-bg-color: #E2EBFA;\n",
              "      --hover-fill-color: #174EA6;\n",
              "      --disabled-fill-color: #AAA;\n",
              "      --disabled-bg-color: #DDD;\n",
              "  }\n",
              "\n",
              "  [theme=dark] .colab-df-quickchart {\n",
              "      --bg-color: #3B4455;\n",
              "      --fill-color: #D2E3FC;\n",
              "      --hover-bg-color: #434B5C;\n",
              "      --hover-fill-color: #FFFFFF;\n",
              "      --disabled-bg-color: #3B4455;\n",
              "      --disabled-fill-color: #666;\n",
              "  }\n",
              "\n",
              "  .colab-df-quickchart {\n",
              "    background-color: var(--bg-color);\n",
              "    border: none;\n",
              "    border-radius: 50%;\n",
              "    cursor: pointer;\n",
              "    display: none;\n",
              "    fill: var(--fill-color);\n",
              "    height: 32px;\n",
              "    padding: 0;\n",
              "    width: 32px;\n",
              "  }\n",
              "\n",
              "  .colab-df-quickchart:hover {\n",
              "    background-color: var(--hover-bg-color);\n",
              "    box-shadow: 0 1px 2px rgba(60, 64, 67, 0.3), 0 1px 3px 1px rgba(60, 64, 67, 0.15);\n",
              "    fill: var(--button-hover-fill-color);\n",
              "  }\n",
              "\n",
              "  .colab-df-quickchart-complete:disabled,\n",
              "  .colab-df-quickchart-complete:disabled:hover {\n",
              "    background-color: var(--disabled-bg-color);\n",
              "    fill: var(--disabled-fill-color);\n",
              "    box-shadow: none;\n",
              "  }\n",
              "\n",
              "  .colab-df-spinner {\n",
              "    border: 2px solid var(--fill-color);\n",
              "    border-color: transparent;\n",
              "    border-bottom-color: var(--fill-color);\n",
              "    animation:\n",
              "      spin 1s steps(1) infinite;\n",
              "  }\n",
              "\n",
              "  @keyframes spin {\n",
              "    0% {\n",
              "      border-color: transparent;\n",
              "      border-bottom-color: var(--fill-color);\n",
              "      border-left-color: var(--fill-color);\n",
              "    }\n",
              "    20% {\n",
              "      border-color: transparent;\n",
              "      border-left-color: var(--fill-color);\n",
              "      border-top-color: var(--fill-color);\n",
              "    }\n",
              "    30% {\n",
              "      border-color: transparent;\n",
              "      border-left-color: var(--fill-color);\n",
              "      border-top-color: var(--fill-color);\n",
              "      border-right-color: var(--fill-color);\n",
              "    }\n",
              "    40% {\n",
              "      border-color: transparent;\n",
              "      border-right-color: var(--fill-color);\n",
              "      border-top-color: var(--fill-color);\n",
              "    }\n",
              "    60% {\n",
              "      border-color: transparent;\n",
              "      border-right-color: var(--fill-color);\n",
              "    }\n",
              "    80% {\n",
              "      border-color: transparent;\n",
              "      border-right-color: var(--fill-color);\n",
              "      border-bottom-color: var(--fill-color);\n",
              "    }\n",
              "    90% {\n",
              "      border-color: transparent;\n",
              "      border-bottom-color: var(--fill-color);\n",
              "    }\n",
              "  }\n",
              "</style>\n",
              "\n",
              "      <script>\n",
              "        async function quickchart(key) {\n",
              "          const quickchartButtonEl =\n",
              "            document.querySelector('#' + key + ' button');\n",
              "          quickchartButtonEl.disabled = true;  // To prevent multiple clicks.\n",
              "          quickchartButtonEl.classList.add('colab-df-spinner');\n",
              "          try {\n",
              "            const charts = await google.colab.kernel.invokeFunction(\n",
              "                'suggestCharts', [key], {});\n",
              "          } catch (error) {\n",
              "            console.error('Error during call to suggestCharts:', error);\n",
              "          }\n",
              "          quickchartButtonEl.classList.remove('colab-df-spinner');\n",
              "          quickchartButtonEl.classList.add('colab-df-quickchart-complete');\n",
              "        }\n",
              "        (() => {\n",
              "          let quickchartButtonEl =\n",
              "            document.querySelector('#df-f5b0bcbe-a4cc-4aca-ab8c-b5a9a39f581b button');\n",
              "          quickchartButtonEl.style.display =\n",
              "            google.colab.kernel.accessAllowed ? 'block' : 'none';\n",
              "        })();\n",
              "      </script>\n",
              "    </div>\n",
              "\n",
              "    </div>\n",
              "  </div>\n"
            ],
            "application/vnd.google.colaboratory.intrinsic+json": {
              "type": "dataframe",
              "summary": "{\n  \"name\": \"df\",\n  \"rows\": 11,\n  \"fields\": [\n    {\n      \"column\": \"Request id\",\n      \"properties\": {\n        \"dtype\": \"number\",\n        \"std\": 2434.690001275002,\n        \"min\": 1.0,\n        \"max\": 6766.0,\n        \"num_unique_values\": 8,\n        \"samples\": [\n          3384.644922164566,\n          5080.0,\n          6745.0\n        ],\n        \"semantic_type\": \"\",\n        \"description\": \"\"\n      }\n    },\n    {\n      \"column\": \"Pickup point\",\n      \"properties\": {\n        \"dtype\": \"category\",\n        \"num_unique_values\": 4,\n        \"samples\": [\n          2,\n          \"3507\",\n          \"6745\"\n        ],\n        \"semantic_type\": \"\",\n        \"description\": \"\"\n      }\n    },\n    {\n      \"column\": \"Cleaned_Driver Id\",\n      \"properties\": {\n        \"dtype\": \"category\",\n        \"num_unique_values\": 4,\n        \"samples\": [\n          301,\n          \"2650\",\n          \"6745\"\n        ],\n        \"semantic_type\": \"\",\n        \"description\": \"\"\n      }\n    },\n    {\n      \"column\": \"Driver id\",\n      \"properties\": {\n        \"dtype\": \"category\",\n        \"num_unique_values\": 4,\n        \"samples\": [\n          301,\n          \"2650\",\n          \"6745\"\n        ],\n        \"semantic_type\": \"\",\n        \"description\": \"\"\n      }\n    },\n    {\n      \"column\": \"Status\",\n      \"properties\": {\n        \"dtype\": \"category\",\n        \"num_unique_values\": 4,\n        \"samples\": [\n          3,\n          \"2831\",\n          \"6745\"\n        ],\n        \"semantic_type\": \"\",\n        \"description\": \"\"\n      }\n    },\n    {\n      \"column\": \"Request timestamp\",\n      \"properties\": {\n        \"dtype\": \"date\",\n        \"min\": \"1970-01-01 00:00:00.000006745\",\n        \"max\": \"2016-12-07 23:54:00\",\n        \"num_unique_values\": 7,\n        \"samples\": [\n          \"6745\",\n          \"2016-08-23 06:08:45.711489792\",\n          \"2016-11-07 09:17:00\"\n        ],\n        \"semantic_type\": \"\",\n        \"description\": \"\"\n      }\n    },\n    {\n      \"column\": \"Drop timestamp\",\n      \"properties\": {\n        \"dtype\": \"date\",\n        \"min\": \"1970-01-01 00:00:00.000002831\",\n        \"max\": \"2016-12-07 23:45:00\",\n        \"num_unique_values\": 7,\n        \"samples\": [\n          \"2831\",\n          \"2016-09-05 17:03:26.523843072\",\n          \"2016-11-07 19:25:30\"\n        ],\n        \"semantic_type\": \"\",\n        \"description\": \"\"\n      }\n    },\n    {\n      \"column\": \"Request Hour\",\n      \"properties\": {\n        \"dtype\": \"number\",\n        \"std\": 2380.6143374090148,\n        \"min\": 0.0,\n        \"max\": 6745.0,\n        \"num_unique_values\": 8,\n        \"samples\": [\n          12.956708673091178,\n          19.0,\n          6745.0\n        ],\n        \"semantic_type\": \"\",\n        \"description\": \"\"\n      }\n    },\n    {\n      \"column\": \"Request Day\",\n      \"properties\": {\n        \"dtype\": \"category\",\n        \"num_unique_values\": 4,\n        \"samples\": [\n          5,\n          \"2285\",\n          \"6745\"\n        ],\n        \"semantic_type\": \"\",\n        \"description\": \"\"\n      }\n    },\n    {\n      \"column\": \"Request Duration\",\n      \"properties\": {\n        \"dtype\": \"number\",\n        \"std\": 116862.67696703773,\n        \"min\": -213086.08333333628,\n        \"max\": 213202.99999999814,\n        \"num_unique_values\": 8,\n        \"samples\": [\n          30442.975391498876,\n          71.30833333299961,\n          2831.0\n        ],\n        \"semantic_type\": \"\",\n        \"description\": \"\"\n      }\n    },\n    {\n      \"column\": \"Drop_Cleaned\",\n      \"properties\": {\n        \"dtype\": \"category\",\n        \"num_unique_values\": 4,\n        \"samples\": [\n          2599,\n          \"3914\",\n          \"6745\"\n        ],\n        \"semantic_type\": \"\",\n        \"description\": \"\"\n      }\n    },\n    {\n      \"column\": \"Cleaned_Status\",\n      \"properties\": {\n        \"dtype\": \"category\",\n        \"num_unique_values\": 4,\n        \"samples\": [\n          3,\n          \"2831\",\n          \"6745\"\n        ],\n        \"semantic_type\": \"\",\n        \"description\": \"\"\n      }\n    },\n    {\n      \"column\": \"Cleaned_Pickup_Point\",\n      \"properties\": {\n        \"dtype\": \"category\",\n        \"num_unique_values\": 4,\n        \"samples\": [\n          2,\n          \"3507\",\n          \"6745\"\n        ],\n        \"semantic_type\": \"\",\n        \"description\": \"\"\n      }\n    },\n    {\n      \"column\": \"TRAVEL DATE\",\n      \"properties\": {\n        \"dtype\": \"category\",\n        \"num_unique_values\": 4,\n        \"samples\": [\n          20,\n          \"823\",\n          \"6745\"\n        ],\n        \"semantic_type\": \"\",\n        \"description\": \"\"\n      }\n    },\n    {\n      \"column\": \"DAY DATE\",\n      \"properties\": {\n        \"dtype\": \"date\",\n        \"min\": \"1970-01-01 00:00:00.000000007\",\n        \"max\": \"2016-07-15 00:00:00\",\n        \"num_unique_values\": 4,\n        \"samples\": [\n          7,\n          \"1381\",\n          \"6745\"\n        ],\n        \"semantic_type\": \"\",\n        \"description\": \"\"\n      }\n    },\n    {\n      \"column\": \"DAY DATE (NUMERICAL COMPUTATION)\",\n      \"properties\": {\n        \"dtype\": \"date\",\n        \"min\": \"1970-01-01 00:00:00.000006745\",\n        \"max\": \"2016-12-07 00:00:00\",\n        \"num_unique_values\": 7,\n        \"samples\": [\n          \"6745\",\n          \"2016-08-22 16:41:29.310600448\",\n          \"2016-11-07 00:00:00\"\n        ],\n        \"semantic_type\": \"\",\n        \"description\": \"\"\n      }\n    },\n    {\n      \"column\": \"DAY TYPE\",\n      \"properties\": {\n        \"dtype\": \"category\",\n        \"num_unique_values\": 4,\n        \"samples\": [\n          3,\n          \"4670\",\n          \"6745\"\n        ],\n        \"semantic_type\": \"\",\n        \"description\": \"\"\n      }\n    }\n  ]\n}"
            }
          },
          "metadata": {},
          "execution_count": 77
        }
      ]
    },
    {
      "cell_type": "markdown",
      "source": [
        "### Variables Description"
      ],
      "metadata": {
        "id": "PBTbrJXOngz2"
      }
    },
    {
      "cell_type": "markdown",
      "source": [
        "1. Request ID-\n",
        "A unique identifier assigned to each ride request. It ensures traceability and allows us to differentiate between individual bookings.\n",
        "\n",
        "2. Pickup Point-\n",
        "Indicates the passenger’s starting location—either \"City\" or \"Airport.\" This field is essential for identifying and comparing demand patterns across geographic locations.\n",
        "\n",
        "3. Cleaned Driver ID-\n",
        "A standardized version of the driver identifier. It has been cleaned to ensure consistency and remove any blanks or anomalies, helping us understand which drivers were assigned to which rides.\n",
        "\n",
        "4. Driver ID-\n",
        "The raw driver identifier, which may include missing or blank values. This field often overlaps with Cleaned Driver ID but may retain unprocessed entries for reference.\n",
        "\n",
        "5. Status-\n",
        "Represents the outcome of the ride request. The three possible values—\"Trip Completed,\" \"Cancelled,\" and \"No Cars Available\"—are central to our analysis of service reliability and supply-demand balance.\n",
        "\n",
        "6. Request Timestamp-\n",
        "The exact date and time when the customer placed the ride request. This field is used to extract additional insights such as the request hour, day, and potential time-based trends.\n",
        "\n",
        "7. Drop Timestamp-\n",
        "The time at which a trip ended, applicable only for completed rides. Its absence typically indicates a cancellation or failed request.\n",
        "\n",
        "8. Request Hour-\n",
        "Extracted from the Request Timestamp, this shows the hour of the day (0–23) when the ride was requested. It helps identify peak and off-peak periods in Uber’s operations.\n",
        "\n",
        "9. Request Day-\n",
        "The day of the week on which the ride was requested (e.g., Monday, Tuesday). This helps uncover patterns tied to weekday vs. weekend behavior.\n",
        "\n",
        "10. Request Duration-\n",
        "Represents the total time taken for a completed trip, calculated from the difference between request and drop timestamps. It helps analyze trip length trends and potential delays.\n",
        "\n",
        "11. Drop_Cleaned-\n",
        "A cleaned version of the drop timestamp. This field standardizes how the drop time is recorded, especially for trips with inconsistent data entries.\n",
        "\n",
        "12. Cleaned Status-\n",
        "A refined version of the original Status field, used to ensure consistency and ease of categorization during analysis.\n",
        "\n",
        "13. Cleaned Pickup Point-\n",
        "A standardized version of the Pickup Point field, useful for ensuring consistent labeling across all records during filtering and comparison.\n",
        "\n",
        "14. Travel Date-\n",
        "The formatted version of the request or drop date. In some entries, this field may include errors or placeholder values, which should be reviewed for cleaning.\n",
        "\n",
        "15. Day Date-\n",
        "Displays the actual calendar date of the ride request. This helps in identifying patterns tied to specific days, such as spikes during events or weekends.\n",
        "\n",
        "16. Day Date (Numerical Computation)\n",
        "A numerical or datetime-transformed version of Day Date, used primarily for plotting timelines or conducting time-series analysis.\n",
        "\n",
        "17. Day Type\n",
        "Categorizes each date as either a \"Normal\" day, \"Holiday,\" or other special types (e.g., strike days). This is vital for understanding how external events influence cancellations and ride availability."
      ],
      "metadata": {
        "id": "aJV4KIxSnxay"
      }
    },
    {
      "cell_type": "markdown",
      "source": [
        "### Check Unique Values for each variable."
      ],
      "metadata": {
        "id": "u3PMJOP6ngxN"
      }
    },
    {
      "cell_type": "code",
      "source": [
        "# Check Unique Values for each variable.\n",
        "df.nunique()\n",
        "# Display unique values for each column (optional: add .head() to limit output)\n",
        "for col in df.columns:\n",
        "    print(f\"\\nColumn: {col}\")\n",
        "    print(df[col].unique())"
      ],
      "metadata": {
        "id": "zms12Yq5n-jE",
        "colab": {
          "base_uri": "https://localhost:8080/"
        },
        "outputId": "fc9972c3-1d75-4977-928d-48e4c8043213"
      },
      "execution_count": 78,
      "outputs": [
        {
          "output_type": "stream",
          "name": "stdout",
          "text": [
            "\n",
            "Column: Request id\n",
            "[ 619  867 1807 ... 6751 6754 6753]\n",
            "\n",
            "Column: Pickup point\n",
            "['Airport' 'City']\n",
            "\n",
            "Column: Cleaned_Driver Id\n",
            "[1 2 3 4 5 6 7 8 9 10 11 12 13 14 15 16 17 18 19 20 21 22 23 24 25 26 27\n",
            " 28 29 30 31 32 33 34 35 36 37 38 39 40 41 42 43 44 45 46 47 48 49 50 51\n",
            " 52 53 54 55 56 57 58 59 60 61 62 63 64 65 66 67 68 69 70 71 72 73 74 75\n",
            " 76 77 78 79 80 81 82 83 84 85 86 87 88 89 90 91 92 93 94 95 96 97 98 99\n",
            " 100 101 102 103 104 105 106 107 108 109 110 111 112 113 114 115 116 117\n",
            " 118 119 120 121 122 123 124 125 126 127 128 129 130 131 132 133 134 135\n",
            " 136 137 138 139 140 141 142 143 144 145 146 147 148 149 150 151 152 153\n",
            " 154 155 156 157 158 159 160 161 162 163 164 165 166 167 168 169 170 171\n",
            " 172 173 174 175 176 177 178 179 180 181 182 183 184 185 186 187 188 189\n",
            " 190 191 192 193 194 195 196 197 198 199 200 201 202 203 204 205 206 207\n",
            " 208 209 210 211 212 213 214 215 216 217 218 219 220 221 222 223 224 225\n",
            " 226 227 228 229 230 231 232 233 234 235 236 237 238 239 240 241 242 243\n",
            " 244 245 246 247 248 249 250 251 252 253 254 255 256 257 258 259 260 261\n",
            " 262 263 264 265 266 267 268 269 270 271 272 273 274 275 276 277 278 279\n",
            " 280 281 282 283 284 285 286 287 288 289 290 291 292 293 294 295 296 297\n",
            " 298 299 300 'Unavailable']\n",
            "\n",
            "Column: Driver id\n",
            "[1 2 3 4 5 6 7 8 9 10 11 12 13 14 15 16 17 18 19 20 21 22 23 24 25 26 27\n",
            " 28 29 30 31 32 33 34 35 36 37 38 39 40 41 42 43 44 45 46 47 48 49 50 51\n",
            " 52 53 54 55 56 57 58 59 60 61 62 63 64 65 66 67 68 69 70 71 72 73 74 75\n",
            " 76 77 78 79 80 81 82 83 84 85 86 87 88 89 90 91 92 93 94 95 96 97 98 99\n",
            " 100 101 102 103 104 105 106 107 108 109 110 111 112 113 114 115 116 117\n",
            " 118 119 120 121 122 123 124 125 126 127 128 129 130 131 132 133 134 135\n",
            " 136 137 138 139 140 141 142 143 144 145 146 147 148 149 150 151 152 153\n",
            " 154 155 156 157 158 159 160 161 162 163 164 165 166 167 168 169 170 171\n",
            " 172 173 174 175 176 177 178 179 180 181 182 183 184 185 186 187 188 189\n",
            " 190 191 192 193 194 195 196 197 198 199 200 201 202 203 204 205 206 207\n",
            " 208 209 210 211 212 213 214 215 216 217 218 219 220 221 222 223 224 225\n",
            " 226 227 228 229 230 231 232 233 234 235 236 237 238 239 240 241 242 243\n",
            " 244 245 246 247 248 249 250 251 252 253 254 255 256 257 258 259 260 261\n",
            " 262 263 264 265 266 267 268 269 270 271 272 273 274 275 276 277 278 279\n",
            " 280 281 282 283 284 285 286 287 288 289 290 291 292 293 294 295 296 297\n",
            " 298 299 300 'Blanks']\n",
            "\n",
            "Column: Status\n",
            "['Trip Completed' 'Cancelled' 'No Cars Available']\n",
            "\n",
            "Column: Request timestamp\n",
            "<DatetimeArray>\n",
            "['2016-11-07 11:51:00', '2016-11-07 17:57:00', '2016-12-07 09:17:00',\n",
            " '2016-12-07 21:08:00', '2016-07-13 08:33:16', '2016-07-13 21:57:28',\n",
            " '2016-07-14 06:15:32', '2016-07-15 05:11:52', '2016-07-15 17:57:27',\n",
            " '2016-11-07 06:46:00',\n",
            " ...\n",
            " '2016-07-15 23:39:15', '2016-07-15 23:42:51', '2016-07-15 23:43:54',\n",
            " '2016-07-15 23:46:03', '2016-07-15 23:46:20', '2016-07-15 23:49:03',\n",
            " '2016-07-15 23:50:05', '2016-07-15 23:52:06', '2016-07-15 23:54:39',\n",
            " '2016-07-15 23:55:03']\n",
            "Length: 5856, dtype: datetime64[ns]\n",
            "\n",
            "Column: Drop timestamp\n",
            "<DatetimeArray>\n",
            "['2016-11-07 13:00:00', '2016-11-07 18:47:00', '2016-12-07 09:58:00',\n",
            " '2016-12-07 22:03:00', '2016-07-13 09:25:47', '2016-07-13 22:28:59',\n",
            " '2016-07-14 07:13:15', '2016-07-15 06:07:52', '2016-07-15 18:50:51',\n",
            " '2016-11-07 07:25:00',\n",
            " ...\n",
            " '2016-07-13 22:05:34', '2016-07-14 09:54:56', '2016-07-14 21:12:48',\n",
            " '2016-07-15 19:19:30', '2016-11-07 23:35:00', '2016-07-13 07:20:52',\n",
            " '2016-07-13 13:16:03', '2016-07-13 23:43:13', '2016-07-15 09:56:07',\n",
            "                 'NaT']\n",
            "Length: 2599, dtype: datetime64[ns]\n",
            "\n",
            "Column: Request Hour\n",
            "[11 17  9 21  8  6  5 12  4 14 22 10 18 15  2 13 16 19  7 20  0  3 23  1]\n",
            "\n",
            "Column: Request Day\n",
            "['Monday' 'Wednesday' 'Thursday' 'Friday' 'Tuesday']\n",
            "\n",
            "Column: Request Duration\n",
            "[68.99999999 50.         41.         ... 49.5        77.08333333\n",
            "         nan]\n",
            "\n",
            "Column: Drop_Cleaned\n",
            "[datetime.datetime(2016, 11, 7, 13, 0)\n",
            " datetime.datetime(2016, 11, 7, 18, 47)\n",
            " datetime.datetime(2016, 12, 7, 9, 58) ...\n",
            " datetime.datetime(2016, 7, 13, 23, 43, 13)\n",
            " datetime.datetime(2016, 7, 15, 9, 56, 7) 'Unavailable']\n",
            "\n",
            "Column: Cleaned_Status\n",
            "['Trip Completed' 'Cancelled' 'No Cars Available']\n",
            "\n",
            "Column: Cleaned_Pickup_Point\n",
            "['Airport' 'City']\n",
            "\n",
            "Column: TRAVEL DATE\n",
            "['07-Nov-2016 → 07-Nov-2016' '07-Dec-2016 → 07-Dec-2016'\n",
            " '13-Jul-2016 → 13-Jul-2016' '14-Jul-2016 → 14-Jul-2016'\n",
            " '15-Jul-2016 → 15-Jul-2016' '12-Jul-2016 → 07-Dec-2016'\n",
            " '11-Jul-2016 → 07-Nov-2016' '11-Jul-2016 → 07-Dec-2016'\n",
            " '13-Jul-2016 → 14-Jul-2016' '15-Jul-2016 → 16-Jul-2016'\n",
            " '12-Jul-2016 → 13-Jul-2016' '14-Jul-2016 → 15-Jul-2016'\n",
            " '07-Nov-2016 → 07-Dec-2016' '07-Dec-2016 → 13-Jul-2016'\n",
            " '13-Jul-2016 → NA' '14-Jul-2016 → NA' '15-Jul-2016 → NA'\n",
            " '07-Dec-2016 → NA' '07-Nov-2016 → NA' '12-Jul-2016 → NA']\n",
            "\n",
            "Column: DAY DATE\n",
            "['07-Nov-2016' '07-Dec-2016' '13-Jul-2016' '14-Jul-2016' '15-Jul-2016'\n",
            " '12-Jul-2016' '11-Jul-2016']\n",
            "\n",
            "Column: DAY DATE (NUMERICAL COMPUTATION)\n",
            "<DatetimeArray>\n",
            "['2016-11-07 00:00:00', '2016-12-07 00:00:00', '2016-07-13 00:00:00',\n",
            " '2016-07-14 00:00:00', '2016-07-15 00:00:00', '2016-07-12 00:00:00',\n",
            " '2016-07-11 00:00:00']\n",
            "Length: 7, dtype: datetime64[ns]\n",
            "\n",
            "Column: DAY TYPE\n",
            "['Holiday' 'Strike/Disruption (Vardah cyclone in Chennai)' 'Normal']\n"
          ]
        }
      ]
    },
    {
      "cell_type": "markdown",
      "source": [
        "## 3. ***Data Wrangling***"
      ],
      "metadata": {
        "id": "dauF4eBmngu3"
      }
    },
    {
      "cell_type": "markdown",
      "source": [
        "### Data Wrangling Code\n"
      ],
      "metadata": {
        "id": "bKJF3rekwFvQ"
      }
    },
    {
      "cell_type": "code",
      "source": [
        "# -----------------------------\n",
        "# 1. Convert timestamps\n",
        "# -----------------------------\n",
        "df['Request timestamp'] = pd.to_datetime(df['Request timestamp'], errors='coerce')\n",
        "df['Drop timestamp'] = pd.to_datetime(df['Drop timestamp'], errors='coerce')\n",
        "\n",
        "# -----------------------------\n",
        "# 2. Extract time features\n",
        "# -----------------------------\n",
        "df['Request Hour'] = df['Request timestamp'].dt.hour\n",
        "df['Request Day'] = df['Request timestamp'].dt.day_name()\n",
        "df['DAY DATE (NUMERICAL COMPUTATION)'] = df['Request timestamp'].dt.normalize()\n",
        "df['DAY DATE'] = df['Request timestamp'].dt.strftime('%d-%b-%Y')\n",
        "\n",
        "# -----------------------------\n",
        "# 3. Handle missing values\n",
        "# -----------------------------\n",
        "# Replace missing Driver Ids with 'Unavailable'\n",
        "df['Cleaned_Driver Id'] = df['Driver id'].fillna('Unavailable').astype(str)\n",
        "df['Driver id'] = df['Driver id'].fillna('Blanks').astype(str)\n",
        "\n",
        "# Clean drop timestamp column\n",
        "df['Drop_Cleaned'] = df['Drop timestamp'].fillna('Unavailable')\n",
        "\n",
        "# Clean status column\n",
        "df['Cleaned_Status'] = df['Status'].fillna('Unknown')\n",
        "df['Cleaned_Pickup_Point'] = df['Pickup point'].fillna('Unknown')\n",
        "\n",
        "# -----------------------------\n",
        "# 4. Calculate trip duration (in minutes)\n",
        "# -----------------------------\n",
        "df['Request Duration'] = (df['Drop timestamp'] - df['Request timestamp']).dt.total_seconds() / 60\n",
        "\n",
        "# -----------------------------\n",
        "# 5. Define custom Day Type\n",
        "# -----------------------------\n",
        "df['DAY TYPE'] = 'Normal'  # Default\n",
        "\n",
        "# Manual override (example for known special days)\n",
        "df.loc[df['DAY DATE'] == '12-Jul-2016', 'DAY TYPE'] = 'Holiday'\n",
        "df.loc[df['DAY DATE'] == '13-Jul-2016', 'DAY TYPE'] = 'Strike/Disruption (Vardah cyclone in Chennai)'\n"
      ],
      "metadata": {
        "id": "wk-9a2fpoLcV"
      },
      "execution_count": 79,
      "outputs": []
    },
    {
      "cell_type": "markdown",
      "source": [
        "### What all manipulations have you done and insights you found?"
      ],
      "metadata": {
        "id": "MSa1f5Uengrz"
      }
    },
    {
      "cell_type": "markdown",
      "source": [
        "**Data Manipulations Performed**\n",
        "\n",
        "1. Timestamp Conversion- Converted the Request timestamp and Drop timestamp columns from string format to datetime objects. Enabled time-based analysis and calculation of ride durations.\n",
        "\n",
        "2. Feature Extraction- Extracted Request Hour and Request Day from Request timestamp to study hourly and daily trends. Derived DAY DATE and DAY DATE (NUMERICAL COMPUTATION) for calendar-based analysis.\n",
        "\n",
        "3. Missing Value Handling- Filled missing Driver id values with \"Blanks\" and \"Unavailable\" in Cleaned_Driver Id for consistency. Filled missing Drop timestamp values with \"Unavailable\" in Drop_Cleaned.Replaced nulls in Status and Pickup point with \"Unknown\" to preserve data integrity.\n",
        "\n",
        "4. Trip Duration Calculation- Computed Request Duration in minutes by subtracting Request timestamp from Drop timestamp. Enabled comparison of trip lengths and identification of outliers.\n",
        "\n",
        "5. Day Type Classification- Labeled days as \"Normal\", \"Holiday\", or \"Strike/Disruption\" based on known events. Added context for analyzing unusual spikes in cancellations or demand.\n",
        "\n",
        "\n",
        "**Insights Derived from Cleaned Data**\n",
        "\n",
        "1. High Cancellation Rates at Specific Pickup Points- Ride cancellations are significantly higher at the Airport compared to the City, especially during peak hours. This suggests a potential supply shortfall or driver reluctance to pick up from the airport.\n",
        "\n",
        "2. Critical Time-Based Service Gaps- Early morning (5 AM–9 AM) and late-night (12 AM–4 AM) hours show a noticeable spike in cancellations and \"No Cars Available\" status. Indicates a supply-demand mismatch during off-peak hours, possibly due to fewer active drivers.\n",
        "\n",
        "3. Impact of External Events- On 13 July 2016, marked as a strike/disruption, there’s a sharp increase in the number of unfulfilled requests.\n",
        "Similarly, on 12 July 2016 (a public holiday), Uber usage patterns change, with lower availability and higher cancellation rates.\n",
        "\n",
        "4. Peak Demand Trends- The dataset shows maximum request volume between 8 AM–10 AM and 5 PM–7 PM, aligning with standard office commute hours. These windows may require dynamic driver incentives to prevent cancellations and delays.\n",
        "\n",
        "5. Driver Assignment Gaps- A large portion of requests have no driver assigned ('Blanks' or 'Unavailable'), especially for canceled or failed trips. Reinforces the need for proactive driver deployment during high-demand periods."
      ],
      "metadata": {
        "id": "LbyXE7I1olp8"
      }
    },
    {
      "cell_type": "markdown",
      "source": [
        "## ***4. Data Vizualization, Storytelling & Experimenting with charts : Understand the relationships between variables***"
      ],
      "metadata": {
        "id": "GF8Ens_Soomf"
      }
    },
    {
      "cell_type": "markdown",
      "source": [
        "#### Chart - 1"
      ],
      "metadata": {
        "id": "0wOQAZs5pc--"
      }
    },
    {
      "cell_type": "code",
      "source": [
        "# Chart - 1 visualization code\n",
        "ob1_ch1 = df.groupby(['Cleaned_Pickup_Point', 'Cleaned_Status'])['Request id'].count().reset_index()\n",
        "\n",
        "plt.figure(figsize=(8, 5))\n",
        "sns.barplot(data=ob1_ch1, x='Cleaned_Pickup_Point', y='Request id', hue='Cleaned_Status')\n",
        "plt.title('Status by Pickup Point')\n",
        "plt.ylabel('Number of Requests')\n",
        "plt.xlabel('Pickup Point')\n",
        "plt.tight_layout()\n",
        "plt.show()"
      ],
      "metadata": {
        "id": "7v_ESjsspbW7",
        "colab": {
          "base_uri": "https://localhost:8080/",
          "height": 507
        },
        "outputId": "ae7e36fb-122a-4caa-88fb-b3265cfc561b"
      },
      "execution_count": 80,
      "outputs": [
        {
          "output_type": "display_data",
          "data": {
            "text/plain": [
              "<Figure size 800x500 with 1 Axes>"
            ],
            "image/png": "[encoded data removed]"
          },
          "metadata": {}
        }
      ]
    },
    {
      "cell_type": "markdown",
      "source": [
        "##### 1. Why did you pick the specific chart?"
      ],
      "metadata": {
        "id": "K5QZ13OEpz2H"
      }
    },
    {
      "cell_type": "markdown",
      "source": [
        "A grouped bar chart was chosen to compare multiple status categories (Trip Completed, Cancelled, No Cars Available) across two pickup locations (Airport vs City). This format makes comparison intuitive."
      ],
      "metadata": {
        "id": "XESiWehPqBRc"
      }
    },
    {
      "cell_type": "markdown",
      "source": [
        "##### 2. What is/are the insight(s) found from the chart?"
      ],
      "metadata": {
        "id": "lQ7QKXXCp7Bj"
      }
    },
    {
      "cell_type": "markdown",
      "source": [
        "1. City pickup points have a higher volume of total requests.\n",
        "2. Both locations face significant cancellations and “no cars” events.\n",
        "3. Airport pickups have slightly fewer completed trips proportionally."
      ],
      "metadata": {
        "id": "C_j1G7yiqdRP"
      }
    },
    {
      "cell_type": "markdown",
      "source": [
        "##### 3. Will the gained insights help creating a positive business impact?\n",
        "Are there any insights that lead to negative growth? Justify with specific reason."
      ],
      "metadata": {
        "id": "448CDAPjqfQr"
      }
    },
    {
      "cell_type": "markdown",
      "source": [
        "1. Positive Impact: This can help optimize supply at both locations.\n",
        "2. Negative Indicator: Cancellations from airport affect customer trust; may imply poor fleet planning or delays in matching.\n"
      ],
      "metadata": {
        "id": "3cspy4FjqxJW"
      }
    },
    {
      "cell_type": "markdown",
      "source": [
        "#### Chart - 2"
      ],
      "metadata": {
        "id": "KSlN3yHqYklG"
      }
    },
    {
      "cell_type": "code",
      "source": [
        "# Chart - 2 visualization code\n",
        "cancelled = df[df['Cleaned_Status'] == 'Cancelled']\n",
        "ob1_ch2 = cancelled['Cleaned_Pickup_Point'].value_counts()\n",
        "\n",
        "plt.figure(figsize=(5, 5))\n",
        "plt.pie(ob1_ch2, labels=ob1_ch2.index, autopct='%1.0f%%', startangle=90)\n",
        "plt.title('Cancelled Trips: Airport vs City')\n",
        "plt.axis('equal')\n",
        "plt.show()"
      ],
      "metadata": {
        "id": "R4YgtaqtYklH",
        "colab": {
          "base_uri": "https://localhost:8080/",
          "height": 444
        },
        "outputId": "ded08323-3ee6-439a-d265-4ab0e6f89e53"
      },
      "execution_count": 81,
      "outputs": [
        {
          "output_type": "display_data",
          "data": {
            "text/plain": [
              "<Figure size 500x500 with 1 Axes>"
            ],
            "image/png": "[encoded data removed]"
          },
          "metadata": {}
        }
      ]
    },
    {
      "cell_type": "markdown",
      "source": [
        "##### 1. Why did you pick the specific chart?"
      ],
      "metadata": {
        "id": "t6dVpIINYklI"
      }
    },
    {
      "cell_type": "markdown",
      "source": [
        "A pie chart was ideal to highlight the proportion of cancellations at each pickup point. It visually shows the balance."
      ],
      "metadata": {
        "id": "5aaW0BYyYklI"
      }
    },
    {
      "cell_type": "markdown",
      "source": [
        "##### 2. What is/are the insight(s) found from the chart?"
      ],
      "metadata": {
        "id": "ijmpgYnKYklI"
      }
    },
    {
      "cell_type": "markdown",
      "source": [
        "1. 84% of all cancelled trips occur in the City.\n",
        "\n",
        "2. Only 16% of cancellations are from Airport pickups.\n",
        "\n",
        "3. This shows that City trips are far more prone to cancellations, possibly due to:\n",
        "\n",
        "*   High demand and fewer cars\n",
        "*   Traffic conditions\n",
        "*   Dynamic pricing dissatisfaction\n",
        "\n"
      ],
      "metadata": {
        "id": "PSx9atu2YklI"
      }
    },
    {
      "cell_type": "markdown",
      "source": [
        "##### 3. Will the gained insights help creating a positive business impact?\n",
        "Are there any insights that lead to negative growth? Justify with specific reason."
      ],
      "metadata": {
        "id": "-JiQyfWJYklI"
      }
    },
    {
      "cell_type": "markdown",
      "source": [
        "**Positive Impact Opportunity:**\n",
        "\n",
        "This insight can help Uber prioritize\n",
        "\n",
        "*   This insight can help Uber prioritize resource allocation in urban centers.\n",
        "\n",
        "*   Implementing driver incentives, dynamic fleet expansion, or penalty reduction strategies in city areas can significantly reduce cancellations.\n",
        "\n",
        "**Negative Growth Risk:**\n",
        "\n",
        "If high city cancellation rates are not addressed, Uber risks:\n",
        "\n",
        "*   Loss of loyal daily users\n",
        "*   Negative app reviews\n",
        "*   Switch to competitors during rush hours\n",
        "\n",
        "\n",
        "\n"
      ],
      "metadata": {
        "id": "BcBbebzrYklV"
      }
    },
    {
      "cell_type": "markdown",
      "source": [
        "#### Chart - 3"
      ],
      "metadata": {
        "id": "EM7whBJCYoAo"
      }
    },
    {
      "cell_type": "code",
      "source": [
        "# Chart - 3 visualization code\n",
        "ob2_ch1 = df.groupby(['DAY TYPE', 'Cleaned_Status'])['Request id'].count().unstack().fillna(0)\n",
        "ob2_ch1_percent = ob2_ch1.div(ob2_ch1.sum(axis=1), axis=0) * 100\n",
        "\n",
        "ob2_ch1_percent.plot(kind='bar', stacked=True, figsize=(9, 5), colormap='viridis')\n",
        "plt.title('Trip Status by Day Type')\n",
        "plt.ylabel('Percentage (%)')\n",
        "plt.xticks(rotation=0)\n",
        "plt.legend(title='Status')\n",
        "plt.tight_layout()\n",
        "plt.show()"
      ],
      "metadata": {
        "id": "t6GMdE67YoAp",
        "colab": {
          "base_uri": "https://localhost:8080/",
          "height": 507
        },
        "outputId": "58cec9bb-8289-45b5-abe7-ccb5449701d1"
      },
      "execution_count": 82,
      "outputs": [
        {
          "output_type": "display_data",
          "data": {
            "text/plain": [
              "<Figure size 900x500 with 1 Axes>"
            ],
            "image/png": "[encoded data removed]"
          },
          "metadata": {}
        }
      ]
    },
    {
      "cell_type": "markdown",
      "source": [
        "##### 1. Why did you pick the specific chart?"
      ],
      "metadata": {
        "id": "fge-S5ZAYoAp"
      }
    },
    {
      "cell_type": "markdown",
      "source": [
        "A 100% stacked bar chart allows direct comparison of trip outcome distribution across different day types (Normal, Holiday, Strike)."
      ],
      "metadata": {
        "id": "5dBItgRVYoAp"
      }
    },
    {
      "cell_type": "markdown",
      "source": [
        "##### 2. What is/are the insight(s) found from the chart?"
      ],
      "metadata": {
        "id": "85gYPyotYoAp"
      }
    },
    {
      "cell_type": "markdown",
      "source": [
        "1. On Strike/Disruption days, completed trips sharply decline.\n",
        "\n",
        "2. Holidays see relatively stable but slightly lower completion.\n",
        "\n",
        "3. Normal days have the best completion-to-cancellation ratio."
      ],
      "metadata": {
        "id": "4jstXR6OYoAp"
      }
    },
    {
      "cell_type": "markdown",
      "source": [
        "##### 3. Will the gained insights help creating a positive business impact?\n",
        "Are there any insights that lead to negative growth? Justify with specific reason."
      ],
      "metadata": {
        "id": "RoGjAbkUYoAp"
      }
    },
    {
      "cell_type": "markdown",
      "source": [
        "1. Helps in predictive scheduling and driver allocation.\n",
        "2. If not addressed, unpreparedness on strike days may lead to severe service gaps and customer dissatisfaction."
      ],
      "metadata": {
        "id": "zfJ8IqMcYoAp"
      }
    },
    {
      "cell_type": "markdown",
      "source": [
        "#### Chart - 4"
      ],
      "metadata": {
        "id": "4Of9eVA-YrdM"
      }
    },
    {
      "cell_type": "code",
      "source": [
        "# Chart - 4 visualization code\n",
        "ob2_ch2 = df[df['Cleaned_Status'] == 'Cancelled']['DAY TYPE'].value_counts()\n",
        "\n",
        "plt.figure(figsize=(7, 4))\n",
        "sns.barplot(x=ob2_ch2.index, y=ob2_ch2.values)\n",
        "plt.title('Cancelled Trips by Day Type')\n",
        "plt.ylabel('Number of Cancellations')\n",
        "plt.xlabel('Day Type')\n",
        "plt.xticks(rotation=0)\n",
        "plt.tight_layout()\n",
        "plt.show()"
      ],
      "metadata": {
        "id": "irlUoxc8YrdO",
        "colab": {
          "base_uri": "https://localhost:8080/",
          "height": 407
        },
        "outputId": "9901e057-fbad-47f4-9fbf-0832a0d24de4"
      },
      "execution_count": 83,
      "outputs": [
        {
          "output_type": "display_data",
          "data": {
            "text/plain": [
              "<Figure size 700x400 with 1 Axes>"
            ],
            "image/png": "[encoded data removed]"
          },
          "metadata": {}
        }
      ]
    },
    {
      "cell_type": "markdown",
      "source": [
        "##### 1. Why did you pick the specific chart?"
      ],
      "metadata": {
        "id": "iky9q4vBYrdO"
      }
    },
    {
      "cell_type": "markdown",
      "source": [
        "A simple bar chart was chosen to directly show number of cancellations by DAY TYPE."
      ],
      "metadata": {
        "id": "aJRCwT6DYrdO"
      }
    },
    {
      "cell_type": "markdown",
      "source": [
        "##### 2. What is/are the insight(s) found from the chart?"
      ],
      "metadata": {
        "id": "F6T5p64dYrdO"
      }
    },
    {
      "cell_type": "markdown",
      "source": [
        "1. Most cancellations occur on normal days (due to higher demand).\n",
        "\n",
        "2. Strike/Disruption days show fewer requests but poor fulfillment."
      ],
      "metadata": {
        "id": "Xx8WAJvtYrdO"
      }
    },
    {
      "cell_type": "markdown",
      "source": [
        "##### 3. Will the gained insights help creating a positive business impact?\n",
        "Are there any insights that lead to negative growth? Justify with specific reason."
      ],
      "metadata": {
        "id": "y-Ehk30pYrdP"
      }
    },
    {
      "cell_type": "markdown",
      "source": [
        "1. Encourages maintaining buffer fleets on regular days.\n",
        "2. Negative impact if strike days aren't mitigated with alerts, alternate transport modes, or increased incentives."
      ],
      "metadata": {
        "id": "jLNxxz7MYrdP"
      }
    },
    {
      "cell_type": "markdown",
      "source": [
        "#### Chart - 5"
      ],
      "metadata": {
        "id": "bamQiAODYuh1"
      }
    },
    {
      "cell_type": "code",
      "source": [
        "# Chart - 5 visualization code\n",
        "completed = df[df['Cleaned_Status'] == 'Trip Completed']\n",
        "ob3_ch1 = completed.groupby('Request Hour')['Request id'].count()\n",
        "\n",
        "plt.figure(figsize=(10, 4))\n",
        "plt.plot(ob3_ch1.index, ob3_ch1.values, marker='o')\n",
        "plt.title('Completed Trips by Hour')\n",
        "plt.xlabel('Hour of Day')\n",
        "plt.ylabel('Number of Trips Completed')\n",
        "plt.grid(True)\n",
        "plt.tight_layout()\n",
        "plt.show()"
      ],
      "metadata": {
        "id": "TIJwrbroYuh3",
        "colab": {
          "base_uri": "https://localhost:8080/",
          "height": 407
        },
        "outputId": "bf266453-4e6e-485b-c60f-b11917bff3db"
      },
      "execution_count": 84,
      "outputs": [
        {
          "output_type": "display_data",
          "data": {
            "text/plain": [
              "<Figure size 1000x400 with 1 Axes>"
            ],
            "image/png": "[encoded data removed]"
          },
          "metadata": {}
        }
      ]
    },
    {
      "cell_type": "markdown",
      "source": [
        "##### 1. Why did you pick the specific chart?"
      ],
      "metadata": {
        "id": "QHF8YVU7Yuh3"
      }
    },
    {
      "cell_type": "markdown",
      "source": [
        "A line chart was selected to highlight hourly trends in completed trips — time-based data is best represented with continuous lines."
      ],
      "metadata": {
        "id": "dcxuIMRPYuh3"
      }
    },
    {
      "cell_type": "markdown",
      "source": [
        "##### 2. What is/are the insight(s) found from the chart?"
      ],
      "metadata": {
        "id": "GwzvFGzlYuh3"
      }
    },
    {
      "cell_type": "markdown",
      "source": [
        "1. Completion rates peak at 7–9 AM and 5–8 PM, aligning with commute windows.\n",
        "\n",
        "2. Midday and late-night activity is low."
      ],
      "metadata": {
        "id": "uyqkiB8YYuh3"
      }
    },
    {
      "cell_type": "markdown",
      "source": [
        "##### 3. Will the gained insights help creating a positive business impact?\n",
        "Are there any insights that lead to negative growth? Justify with specific reason."
      ],
      "metadata": {
        "id": "qYpmQ266Yuh3"
      }
    },
    {
      "cell_type": "markdown",
      "source": [
        "1. Use this to maximize driver presence during peak hours.\n",
        "2. If peak hours are underserved, it can result in missed revenue and poor customer experience."
      ],
      "metadata": {
        "id": "_WtzZ_hCYuh4"
      }
    },
    {
      "cell_type": "markdown",
      "source": [
        "#### Chart - 6"
      ],
      "metadata": {
        "id": "OH-pJp9IphqM"
      }
    },
    {
      "cell_type": "code",
      "source": [
        "# Chart - 6 visualization code\n",
        "no_cars = df[df['Cleaned_Status'] == 'No Cars Available']\n",
        "ob3_ch2 = no_cars.groupby('Request Hour')['Request id'].count()\n",
        "\n",
        "plt.figure(figsize=(10, 4))\n",
        "plt.fill_between(ob3_ch2.index, ob3_ch2.values, color='skyblue', alpha=0.6)\n",
        "plt.plot(ob3_ch2.index, ob3_ch2.values, marker='o')\n",
        "plt.title('No Cars Available by Hour')\n",
        "plt.xlabel('Hour of Day')\n",
        "plt.ylabel('Count')\n",
        "plt.grid(True)\n",
        "plt.tight_layout()\n",
        "plt.show()"
      ],
      "metadata": {
        "id": "kuRf4wtuphqN",
        "colab": {
          "base_uri": "https://localhost:8080/",
          "height": 407
        },
        "outputId": "ebf820f7-57fe-4dbf-ec7f-f98f0458e4a2"
      },
      "execution_count": 85,
      "outputs": [
        {
          "output_type": "display_data",
          "data": {
            "text/plain": [
              "<Figure size 1000x400 with 1 Axes>"
            ],
            "image/png": "[encoded data removed]"
          },
          "metadata": {}
        }
      ]
    },
    {
      "cell_type": "markdown",
      "source": [
        "##### 1. Why did you pick the specific chart?"
      ],
      "metadata": {
        "id": "bbFf2-_FphqN"
      }
    },
    {
      "cell_type": "markdown",
      "source": [
        "An area chart was chosen to emphasize volume and pattern of unavailability throughout the day — giving more focus to peaks."
      ],
      "metadata": {
        "id": "loh7H2nzphqN"
      }
    },
    {
      "cell_type": "markdown",
      "source": [
        "##### 2. What is/are the insight(s) found from the chart?"
      ],
      "metadata": {
        "id": "_ouA3fa0phqN"
      }
    },
    {
      "cell_type": "markdown",
      "source": [
        "1. “No Cars Available” peaks exactly during high demand hours (AM/PM commute).\n",
        "\n",
        "2. Mirrors OB3–CH1, highlighting demand-supply imbalance."
      ],
      "metadata": {
        "id": "VECbqPI7phqN"
      }
    },
    {
      "cell_type": "markdown",
      "source": [
        "##### 3. Will the gained insights help creating a positive business impact?\n",
        "Are there any insights that lead to negative growth? Justify with specific reason."
      ],
      "metadata": {
        "id": "Seke61FWphqN"
      }
    },
    {
      "cell_type": "markdown",
      "source": [
        "1. Enables driver scheduling optimization.\n",
        "2. A direct threat to user retention. Repeated failure to serve during peak demand can shift users to competitors (like Ola or autos)."
      ],
      "metadata": {
        "id": "DW4_bGpfphqN"
      }
    },
    {
      "cell_type": "markdown",
      "source": [
        "## **5. Solution to Business Objective**"
      ],
      "metadata": {
        "id": "JcMwzZxoAimU"
      }
    },
    {
      "cell_type": "markdown",
      "source": [
        "#### What do you suggest the client to achieve Business Objective ?\n",
        "Explain Briefly."
      ],
      "metadata": {
        "id": "8G2x9gOozGDZ"
      }
    },
    {
      "cell_type": "markdown",
      "source": [
        "To improve operational efficiency, reduce cancellations, and enhance rider satisfaction, the following data-driven strategies are recommended:\n",
        "\n",
        "1. Optimize Driver Availability During Peak Hours\n",
        "Insight: Trip completions and \"No Cars Available\" events both peak during morning and evening rush hours.\n",
        "\n",
        "Recommendation:\n",
        "Implement predictive scheduling and targeted driver incentives during high-demand windows (7–9 AM and 5–9 PM). This will improve service fulfillment, reduce unavailability issues, and increase revenue potential.\n",
        "\n",
        "2. Address High Cancellation Rates in City Areas\n",
        "Insight: 84% of all cancellations originate from City pickup points.\n",
        "\n",
        "Recommendation:\n",
        "Conduct root cause analysis on urban cancellations. Enhance driver reliability through improved engagement, fair cancellation policies, and potential rider incentives to reduce churn due to failed bookings.\n",
        "\n",
        "3. Enhance Reliability at Airport Locations\n",
        "Insight: While accounting for only 16% of cancellations, airports represent a high-value segment with significant request volume.\n",
        "\n",
        "Recommendation:\n",
        "Streamline operations at airports with designated pickup lanes, scheduled rides, or priority driver allocation to support business travelers and time-sensitive users.\n",
        "\n",
        "4. Mitigate Impact of Holidays and Disruptions\n",
        "Insight: Service fulfillment drops significantly during holidays and strike/disruption days.\n",
        "\n",
        "Recommendation:\n",
        "Develop a contingency plan that includes surge pricing control, flexible driver bonuses, and proactive rider communication during predictable disruption events.\n",
        "\n",
        "5. Leverage Operational Intelligence for Decision-Making\n",
        "Insight: Variability in demand and fulfillment is consistent across time, location, and context.\n",
        "\n",
        "Recommendation:\n",
        "Integrate insights into a live operational dashboard to support regional managers with real-time decision-making, driver shift planning, and service-level monitoring."
      ],
      "metadata": {
        "id": "pASKb0qOza21"
      }
    },
    {
      "cell_type": "markdown",
      "source": [
        "# **Conclusion**"
      ],
      "metadata": {
        "id": "gCX9965dhzqZ"
      }
    },
    {
      "cell_type": "markdown",
      "source": [
        "The analysis of Uber’s operational data reveals clear patterns in rider demand, service availability, and trip fulfillment across various times and locations. High cancellation rates in city areas, peak-hour unavailability, and service disruption during holidays and strikes are key challenges currently affecting performance and customer satisfaction.\n",
        "\n",
        "By adopting data-driven strategies—such as optimizing driver availability during rush hours, improving reliability in high-demand zones, and proactively managing service disruptions—Uber can significantly enhance its operational efficiency and user experience.\n",
        "\n",
        "Addressing these areas will not only reduce lost revenue opportunities but also strengthen brand trust and customer loyalty. These insights provide a solid foundation for strategic decision-making that aligns with Uber's long-term goals of scalability, service reliability, and market leadership."
      ],
      "metadata": {
        "id": "Fjb1IsQkh3yE"
      }
    },
    {
      "cell_type": "markdown",
      "source": [
        "### ***Hurrah! You have successfully completed your EDA Capstone Project !!!***"
      ],
      "metadata": {
        "id": "gIfDvo9L0UH2"
      }
    },
    {
      "cell_type": "code",
      "source": [],
      "metadata": {
        "id": "dYX880etpL0x"
      },
      "execution_count": 85,
      "outputs": []
    },
    {
      "cell_type": "code",
      "source": [],
      "metadata": {
        "id": "-6Vl263upPVI"
      },
      "execution_count": 85,
      "outputs": []
    }
  ]
}